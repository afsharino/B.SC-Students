{
 "cells": [
  {
   "cell_type": "markdown",
   "id": "e7c4b681",
   "metadata": {},
   "source": [
    "<div class=\"alert alert-block alert-info\">\n",
    "    <h1 align=\"center\">Numpy Mini Project</h1>\n",
    "    <h2 align=\"center\">Python programming</h2>\n",
    "    <h3 align=\"center\">Ferdowsi University of Mashhad</3>\n",
    "    <h4 align=\"center\"><a href=\"https://t.me/afsharino\">Mohammad Afshari</a></h4>\n",
    "    \n",
    "</div>"
   ]
  },
  {
   "cell_type": "markdown",
   "id": "9f2f8dbf",
   "metadata": {},
   "source": [
    "**TO Do:**"
   ]
  },
  {
   "cell_type": "markdown",
   "id": "8670b66f",
   "metadata": {},
   "source": [
    "Import the numpy package under the name `np`"
   ]
  },
  {
   "cell_type": "code",
   "execution_count": 133,
   "id": "c7424923",
   "metadata": {},
   "outputs": [],
   "source": [
    "import numpy as np"
   ]
  },
  {
   "cell_type": "markdown",
   "id": "b3bd0a2b",
   "metadata": {},
   "source": [
    "Create a null vector of size 10 but the fifth value which is 1 "
   ]
  },
  {
   "cell_type": "code",
   "execution_count": 134,
   "id": "3ce22429",
   "metadata": {},
   "outputs": [
    {
     "data": {
      "text/plain": [
       "array([nan, nan, nan, nan,  1., nan, nan, nan, nan, nan])"
      ]
     },
     "execution_count": 134,
     "metadata": {},
     "output_type": "execute_result"
    }
   ],
   "source": [
    "array = np.full(10, np.nan)\n",
    "array[4] = 1\n",
    "array"
   ]
  },
  {
   "cell_type": "markdown",
   "id": "187683c4",
   "metadata": {},
   "source": [
    "Create a 3x3 matrix with values ranging from 0 to 8"
   ]
  },
  {
   "cell_type": "code",
   "execution_count": 135,
   "id": "cb672858",
   "metadata": {},
   "outputs": [
    {
     "data": {
      "text/plain": [
       "array([[0, 1, 2],\n",
       "       [3, 4, 5],\n",
       "       [6, 7, 8]], dtype=int8)"
      ]
     },
     "execution_count": 135,
     "metadata": {},
     "output_type": "execute_result"
    }
   ],
   "source": [
    "# 1st solution\n",
    "array = np.linspace(0, 8, num=9, dtype='int8').reshape(3, 3)\n",
    "array"
   ]
  },
  {
   "cell_type": "code",
   "execution_count": 136,
   "id": "4b678c5e",
   "metadata": {},
   "outputs": [
    {
     "data": {
      "text/plain": [
       "array([[0, 1, 2],\n",
       "       [3, 4, 5],\n",
       "       [6, 7, 8]])"
      ]
     },
     "execution_count": 136,
     "metadata": {},
     "output_type": "execute_result"
    }
   ],
   "source": [
    "# 2nd solution\n",
    "array = np.arange(9).reshape(3,3)\n",
    "array"
   ]
  },
  {
   "cell_type": "markdown",
   "id": "feae2f48",
   "metadata": {},
   "source": [
    "How to compute ((A+B)*(-A/2)) in place (without copy)?"
   ]
  },
  {
   "cell_type": "code",
   "execution_count": 137,
   "id": "f145d9b1",
   "metadata": {},
   "outputs": [
    {
     "name": "stdout",
     "output_type": "stream",
     "text": [
      "[  0.  -67.5  -3.  -20.  -13.5  -7.5 -24.   -2.  -38.5 -28. ]\n"
     ]
    }
   ],
   "source": [
    "A = np.random.randint(low = 0, high = 10, size = 1000)\n",
    "B = np.random.randint(low = 0, high = 10, size = 1000)\n",
    "print(((A+B) * ((-A)/2))[:10])"
   ]
  },
  {
   "cell_type": "markdown",
   "id": "5a6081c6",
   "metadata": {},
   "source": [
    "Create a 5x5 matrix with row values ranging from 0 to 4"
   ]
  },
  {
   "cell_type": "markdown",
   "id": "b5781b8f",
   "metadata": {},
   "source": [
    "### First point of view\n",
    "    We suppose that the values should range from 0 to 4 randomly."
   ]
  },
  {
   "cell_type": "code",
   "execution_count": 138,
   "id": "9d767d96",
   "metadata": {},
   "outputs": [
    {
     "data": {
      "text/plain": [
       "array([[2., 0., 0., 4., 4.],\n",
       "       [3., 3., 1., 0., 2.],\n",
       "       [0., 3., 1., 3., 2.],\n",
       "       [2., 2., 2., 0., 3.],\n",
       "       [3., 3., 3., 3., 4.]])"
      ]
     },
     "execution_count": 138,
     "metadata": {},
     "output_type": "execute_result"
    }
   ],
   "source": [
    "array = np.zeros((5,5))\n",
    "for i in range(5):\n",
    "        array[i] = np.random.randint(5, size=5, dtype=np.int8)\n",
    "array"
   ]
  },
  {
   "cell_type": "markdown",
   "id": "34f29cd3",
   "metadata": {},
   "source": [
    "### Second point of view\n",
    "    We suppose that the values should range from 0 to 4 in order(not randomly)."
   ]
  },
  {
   "cell_type": "code",
   "execution_count": 139,
   "id": "fd67cac3",
   "metadata": {},
   "outputs": [
    {
     "data": {
      "text/plain": [
       "array([[0, 1, 2, 3, 4],\n",
       "       [0, 1, 2, 3, 4],\n",
       "       [0, 1, 2, 3, 4],\n",
       "       [0, 1, 2, 3, 4],\n",
       "       [0, 1, 2, 3, 4]])"
      ]
     },
     "execution_count": 139,
     "metadata": {},
     "output_type": "execute_result"
    }
   ],
   "source": [
    "# 1st solution\n",
    "array = np.full((5,5),np.arange(5))\n",
    "array"
   ]
  },
  {
   "cell_type": "code",
   "execution_count": 140,
   "id": "2e264ec9",
   "metadata": {},
   "outputs": [
    {
     "data": {
      "text/plain": [
       "array([[0, 1, 2, 3, 4],\n",
       "       [0, 1, 2, 3, 4],\n",
       "       [0, 1, 2, 3, 4],\n",
       "       [0, 1, 2, 3, 4],\n",
       "       [0, 1, 2, 3, 4]])"
      ]
     },
     "execution_count": 140,
     "metadata": {},
     "output_type": "execute_result"
    }
   ],
   "source": [
    "# 2nd solution\n",
    "array = np.zeros((5,5), dtype=\"int8\") + np.arange(5)\n",
    "array"
   ]
  },
  {
   "cell_type": "markdown",
   "id": "009bb901",
   "metadata": {},
   "source": [
    "Consider two random array A and B, check if they are equal"
   ]
  },
  {
   "cell_type": "code",
   "execution_count": 141,
   "id": "5aba39e6",
   "metadata": {},
   "outputs": [
    {
     "name": "stdout",
     "output_type": "stream",
     "text": [
      "[9 9 1 5 9]\n",
      "[0 4 8 0 6]\n",
      "False\n"
     ]
    }
   ],
   "source": [
    "A = np.random.randint(low = 0, high = 10, size = 5)\n",
    "B = np.random.randint(low = 0, high = 10, size = 5)\n",
    "print(A)\n",
    "print(B)\n",
    "print(np.array_equal(A,B))"
   ]
  },
  {
   "cell_type": "markdown",
   "id": "3546f8cb",
   "metadata": {},
   "source": [
    "Consider a random vector with shaped(100,2) representing coordinates, find point by point distances"
   ]
  },
  {
   "cell_type": "code",
   "execution_count": 142,
   "id": "d72886b5",
   "metadata": {},
   "outputs": [
    {
     "name": "stdout",
     "output_type": "stream",
     "text": [
      "[[0.         6.08276253 3.         ... 4.12310563 4.         4.12310563]\n",
      " [6.08276253 0.         7.21110255 ... 2.         7.81024968 8.60232527]\n",
      " [3.         7.21110255 0.         ... 5.65685425 1.         1.41421356]\n",
      " ...\n",
      " [4.12310563 2.         5.65685425 ... 0.         6.40312424 7.07106781]\n",
      " [4.         7.81024968 1.         ... 6.40312424 0.         1.        ]\n",
      " [4.12310563 8.60232527 1.41421356 ... 7.07106781 1.         0.        ]]\n"
     ]
    }
   ],
   "source": [
    "points = np.random.randint(low = 0, high = 10, size = 200).reshape(100,2)\n",
    "X = points[:, 0]\n",
    "Y = points[:, 1]\n",
    "a = (X.reshape(1, -1)-X.reshape(-1, 1))**2\n",
    "b = (Y.reshape(1, -1)-Y.reshape(-1, 1))**2\n",
    "dists = np.sqrt(a+b)\n",
    "print(dists)"
   ]
  },
  {
   "cell_type": "markdown",
   "id": "80a70593",
   "metadata": {},
   "source": [
    "Subtract the mean of each row of a matrix"
   ]
  },
  {
   "cell_type": "code",
   "execution_count": 143,
   "id": "52d524a6",
   "metadata": {},
   "outputs": [
    {
     "data": {
      "text/plain": [
       "array([[-2., -1.,  0.,  1.,  2.],\n",
       "       [-2., -1.,  0.,  1.,  2.],\n",
       "       [-2., -1.,  0.,  1.,  2.]])"
      ]
     },
     "execution_count": 143,
     "metadata": {},
     "output_type": "execute_result"
    }
   ],
   "source": [
    "matrix = np.arange(15).reshape(3,5).astype('float64')\n",
    "matrix -= matrix.mean(axis=1).reshape(-1, 1)\n",
    "matrix"
   ]
  },
  {
   "cell_type": "markdown",
   "id": "b5053c6a",
   "metadata": {},
   "source": [
    "How to sort an array by the nth column?"
   ]
  },
  {
   "cell_type": "code",
   "execution_count": 144,
   "id": "c130fcf6",
   "metadata": {},
   "outputs": [
    {
     "name": "stdout",
     "output_type": "stream",
     "text": [
      "array before sorting \n",
      " [[4 2 8 7 9]\n",
      " [2 6 0 3 1]\n",
      " [0 9 7 3 0]]\n",
      "\n",
      "array sort based on column 2 \n",
      " [[2 6 0 3 1]\n",
      " [0 9 7 3 0]\n",
      " [4 2 8 7 9]]\n"
     ]
    }
   ],
   "source": [
    "array = np.random.randint(10, size=15).reshape(3,5)\n",
    "print(f\"array before sorting \\n {array}\")\n",
    "\n",
    "print(f\"\\narray sort based on column 2 \\n {array[array[:, 2].argsort()]}\")"
   ]
  },
  {
   "cell_type": "markdown",
   "id": "5c7bf172",
   "metadata": {},
   "source": [
    "How to tell if a given 2D array has null columns?"
   ]
  },
  {
   "cell_type": "code",
   "execution_count": 145,
   "id": "ca76d2da",
   "metadata": {},
   "outputs": [
    {
     "data": {
      "text/plain": [
       "array([ True, False, False, False, False, False, False, False, False,\n",
       "       False])"
      ]
     },
     "execution_count": 145,
     "metadata": {},
     "output_type": "execute_result"
    }
   ],
   "source": [
    "A = np.random.randint(0,3,(3,10)).astype('float64')\n",
    "A[0, 0] = np.nan\n",
    "np.isnan(A).any(axis=0)"
   ]
  },
  {
   "cell_type": "markdown",
   "id": "9fa03a89",
   "metadata": {},
   "source": [
    "Considering a four dimensions array, how to get sum over the last two axis at once? "
   ]
  },
  {
   "cell_type": "code",
   "execution_count": 146,
   "id": "e76df527",
   "metadata": {},
   "outputs": [
    {
     "data": {
      "text/plain": [
       "array([[53, 63, 43, 61],\n",
       "       [71, 59, 76, 72],\n",
       "       [61, 60, 56, 53]])"
      ]
     },
     "execution_count": 146,
     "metadata": {},
     "output_type": "execute_result"
    }
   ],
   "source": [
    "A = np.random.randint(0,10,(3,4,3,4))\n",
    "\n",
    "A.sum(axis=(-2,-1))"
   ]
  },
  {
   "cell_type": "markdown",
   "id": "5e9a5211",
   "metadata": {},
   "source": [
    "Consider an array of dimension (5,5,3), how to mulitply it by an array with dimensions (5,5)?"
   ]
  },
  {
   "cell_type": "code",
   "execution_count": 147,
   "id": "fc4a7fe1",
   "metadata": {},
   "outputs": [
    {
     "data": {
      "text/plain": [
       "array([[[ 6, 42, 36],\n",
       "        [63, 72, 81],\n",
       "        [ 0,  8,  8],\n",
       "        [ 0,  0,  0],\n",
       "        [27,  6,  3]],\n",
       "\n",
       "       [[20, 15, 35],\n",
       "        [16, 32, 16],\n",
       "        [ 0,  0,  0],\n",
       "        [ 0, 18, 18],\n",
       "        [21, 14, 35]],\n",
       "\n",
       "       [[48,  8,  8],\n",
       "        [ 0,  8,  9],\n",
       "        [ 2,  7,  3],\n",
       "        [24, 16, 16],\n",
       "        [28, 20, 12]],\n",
       "\n",
       "       [[35, 42, 28],\n",
       "        [42, 49, 42],\n",
       "        [ 9, 12, 12],\n",
       "        [ 8, 32, 20],\n",
       "        [45, 20, 15]],\n",
       "\n",
       "       [[ 0,  0,  0],\n",
       "        [ 0,  0,  0],\n",
       "        [27, 45,  0],\n",
       "        [14, 14, 16],\n",
       "        [56, 56,  0]]])"
      ]
     },
     "execution_count": 147,
     "metadata": {},
     "output_type": "execute_result"
    }
   ],
   "source": [
    "A = np.random.randint(0,10,(5,5,3))\n",
    "B = np.random.randint(0,10,(5,5))\n",
    "A*B.reshape(5, 5, 1)"
   ]
  },
  {
   "cell_type": "markdown",
   "id": "e1241933",
   "metadata": {},
   "source": [
    "Consider a set of 10 triplets describing 10 triangles (with shared vertices), find the set of unique line segments composing all the  triangles "
   ]
  },
  {
   "cell_type": "code",
   "execution_count": null,
   "id": "223da601",
   "metadata": {},
   "outputs": [],
   "source": []
  },
  {
   "cell_type": "markdown",
   "id": "b6c185cf",
   "metadata": {},
   "source": [
    "Consider two arrays A and B of shape (8,3) and (2,2). How to find rows of A that contain elements of each row of B regardless of the order of the elements in B?"
   ]
  },
  {
   "cell_type": "code",
   "execution_count": 148,
   "id": "20937434",
   "metadata": {},
   "outputs": [
    {
     "data": {
      "text/plain": [
       "array([[7, 1, 1],\n",
       "       [0, 4, 3],\n",
       "       [6, 7, 1],\n",
       "       [7, 5, 0],\n",
       "       [3, 8, 7],\n",
       "       [9, 1, 7]])"
      ]
     },
     "execution_count": 148,
     "metadata": {},
     "output_type": "execute_result"
    }
   ],
   "source": [
    "A = np.random.randint(0,10,(8,3))\n",
    "B = np.random.randint(0,10,(2,2))\n",
    "indices = np.isin(A, B.reshape(-1)).any(axis=1)\n",
    "A[indices]"
   ]
  },
  {
   "cell_type": "markdown",
   "id": "1618fbc3",
   "metadata": {},
   "source": [
    "How to get the n largest values of an array "
   ]
  },
  {
   "cell_type": "code",
   "execution_count": 149,
   "id": "8a475181",
   "metadata": {},
   "outputs": [
    {
     "data": {
      "text/plain": [
       "array([98, 98, 98, 98, 99])"
      ]
     },
     "execution_count": 149,
     "metadata": {},
     "output_type": "execute_result"
    }
   ],
   "source": [
    "A = np.random.randint(0, 100, 100)\n",
    "n = 5\n",
    "np.sort(A)[n*-1:]"
   ]
  },
  {
   "cell_type": "markdown",
   "id": "7ee2926c",
   "metadata": {},
   "source": [
    "**Mini-project NumPy:**"
   ]
  },
  {
   "cell_type": "markdown",
   "id": "d886d4aa",
   "metadata": {},
   "source": [
    "Mean Normalization\n",
    "\n",
    "\n",
    "In machine learning we use large amounts of data to train our models. Some machine learning algorithms may require that the data is normalized in order to work correctly. The idea of normalization, also known as feature scaling, is to ensure that all the data is on a similar scale, i.e. that all the data takes on a similar range of values. For example, we might have a dataset that has values between 0 and 5,000. By normalizing the data we can make the range of values be between 0 and 1.\n",
    "\n",
    "In this lab, you will be performing a different kind of feature scaling known as mean normalization. Mean normalization will scale the data, but instead of making the values be between 0 and 1, it will distribute the values evenly in some small interval around zero. For example, if we have a dataset that has values between 0 and 5,000, after mean normalization the range of values will be distributed in some small range around 0, for example between -3 to 3. Because the range of values are distributed evenly around zero, this guarantees that the average (mean) of all elements will be zero. Therefore, when you perform mean normalization your data will not only be scaled but it will also have an average of zero.\n",
    "\n",
    "To Do:\n",
    "\n",
    "\n",
    "You will start by importing NumPy and creating a rank 2 ndarray of random integers between 0 and 5,000 (inclusive) with 1000 rows and 20 columns. This array will simulate a dataset with a wide range of values. Fill in the code below"
   ]
  },
  {
   "cell_type": "code",
   "execution_count": 150,
   "id": "3d792a3d",
   "metadata": {},
   "outputs": [
    {
     "name": "stdout",
     "output_type": "stream",
     "text": [
      "(1000, 20)\n"
     ]
    }
   ],
   "source": [
    "# import NumPy into Python\n",
    "import numpy as np\n",
    "\n",
    "# Create a 1000 x 20 ndarray with random integers in the half-open interval [0, 5001).\n",
    "X = np.random.randint(0,5001,size=(1000, 20)) \n",
    "# or\n",
    "# X = np.random.randint(low=0, high=5001, size=20000).reshape(1000,20) \n",
    "\n",
    "# print the shape of X\n",
    "print(X.shape)"
   ]
  },
  {
   "cell_type": "markdown",
   "id": "04ab8357",
   "metadata": {},
   "source": [
    "Now that you created the array we will mean normalize it. We will perform mean normalization using the following equation:\n",
    "\n",
    "$\\mbox{Norm_Col}_i = \\frac{\\mbox{Col}_i - \\mu_i}{\\sigma_i}$\n",
    "\n",
    "where $\\mbox{Col}_i$ is the $i$th column of $X$, $\\mu_i$ is average of the values in the $i$th column of $X$, and $\\sigma_i$ is the standard deviation of the values in the $i$th column of $X$. In other words, mean normalization is performed by subtracting from each column of $X$ the average of its values, and then by dividing by the standard deviation of its values. In the space below, you will first calculate the average and standard deviation of each column of $X$. "
   ]
  },
  {
   "cell_type": "code",
   "execution_count": 151,
   "id": "70ad78ce",
   "metadata": {},
   "outputs": [],
   "source": [
    "# Average of the values in each column of X\n",
    "ave_cols = np.mean(X, axis=0)\n",
    "\n",
    "# Standard Deviation of the values in each column of X\n",
    "std_cols = np.std(X, axis=0)"
   ]
  },
  {
   "cell_type": "markdown",
   "id": "b1075af1",
   "metadata": {},
   "source": [
    "If you have done the above calculations correctly, then `ave_cols` and `std_cols`, should both be vectors with shape `(20,)` since $X$ has 20 columns. You can verify this by filling the code below:"
   ]
  },
  {
   "cell_type": "code",
   "execution_count": 152,
   "id": "6e5c7c8c",
   "metadata": {},
   "outputs": [
    {
     "name": "stdout",
     "output_type": "stream",
     "text": [
      "The shape of ave_cols is:  (20,)\n",
      "The shape of std_cols is:  (20,)\n"
     ]
    }
   ],
   "source": [
    "# Print the shape of ave_cols\n",
    "print(\"The shape of ave_cols is: \", ave_cols.shape)\n",
    "\n",
    "# Print the shape of std_cols\n",
    "print(\"The shape of std_cols is: \", std_cols.shape)"
   ]
  },
  {
   "cell_type": "markdown",
   "id": "8317d3b6",
   "metadata": {},
   "source": [
    "You can now take advantage of Broadcasting to calculate the mean normalized version of $X$ in just one line of code using the equation above. Fill in the code below"
   ]
  },
  {
   "cell_type": "code",
   "execution_count": 153,
   "id": "dd56320e",
   "metadata": {},
   "outputs": [],
   "source": [
    "# Mean normalize X\n",
    "X_norm = (X - ave_cols) / std_cols"
   ]
  },
  {
   "cell_type": "markdown",
   "id": "feed904a",
   "metadata": {},
   "source": [
    "If you have performed the mean normalization correctly, then the average of all the elements in $X_{\\tiny{\\mbox{norm}}}$ should be close to zero, and they should be evenly distributed in some small interval around zero. You can verify this by filing the code below:"
   ]
  },
  {
   "cell_type": "code",
   "execution_count": 154,
   "id": "0c2e5bc9",
   "metadata": {},
   "outputs": [
    {
     "name": "stdout",
     "output_type": "stream",
     "text": [
      "The average of all the values of X_norm is: 3.268496584496461e-17\n",
      "The average of the minimum value in each column of X_norm is: -1.7277790858492499\n",
      "The average of the maximum value in each column of X_norm is: 1.7401572439239306\n"
     ]
    }
   ],
   "source": [
    "# Print the average of all the values of X_norm\n",
    "print(f\"The average of all the values of X_norm is: {np.mean(X_norm)}\")\n",
    "\n",
    "# Print the average of the minimum value in each column of X_norm\n",
    "print(f\"The average of the minimum value in each column of X_norm is: \\\n",
    "{np.min(X_norm, axis=0).mean()}\")\n",
    "\n",
    "# Print the average of the maximum value in each column of X_norm\n",
    "print(f\"The average of the maximum value in each column of X_norm is: \\\n",
    "{np.max(X_norm, axis=0).mean()}\")"
   ]
  },
  {
   "cell_type": "markdown",
   "id": "ced682a4",
   "metadata": {},
   "source": [
    "You should note that since $X$ was created using random integers, the above values will vary. \n",
    "\n",
    "# Data Separation\n",
    "\n",
    "After the data has been mean normalized, it is customary in machine learnig to split our dataset into three sets:\n",
    "\n",
    "1. A Training Set\n",
    "2. A Cross Validation Set\n",
    "3. A Test Set\n",
    "\n",
    "The dataset is usually divided such that the Training Set contains 60% of the data, the Cross Validation Set contains 20% of the data, and the Test Set contains 20% of the data. \n",
    "\n",
    "In this part of the lab you will separate `X_norm` into a Training Set, Cross Validation Set, and a Test Set. Each data set will contain rows of `X_norm` chosen at random, making sure that we don't pick the same row twice. This will guarantee that all the rows of `X_norm` are chosen and randomly distributed among the three new sets.\n",
    "\n",
    "You will start by creating a rank 1 ndarray that contains a random permutation of the row indices of `X_norm`. You can do this by using the `np.random.permutation()` function. The `np.random.permutation(N)` function creates a random permutation of integers from 0 to `N - 1`. Let's see an example:"
   ]
  },
  {
   "cell_type": "code",
   "execution_count": 155,
   "id": "c7fab1d5",
   "metadata": {},
   "outputs": [
    {
     "data": {
      "text/plain": [
       "array([1, 2, 3, 4, 0])"
      ]
     },
     "execution_count": 155,
     "metadata": {},
     "output_type": "execute_result"
    }
   ],
   "source": [
    "# We create a random permutation of integers 0 to 4\n",
    "np.random.permutation(5)"
   ]
  },
  {
   "cell_type": "markdown",
   "id": "a3f191bb",
   "metadata": {},
   "source": [
    "# To Do\n",
    "\n",
    "In the space below create a rank 1 ndarray that contains a random permutation of the row indices of `X_norm`. You can do this in one line of code by extracting the number of rows of `X_norm` using the `shape` attribute and then passing it to the  `np.random.permutation()` function. Remember the `shape` attribute returns a tuple with two numbers in the form `(rows,columns)`."
   ]
  },
  {
   "cell_type": "code",
   "execution_count": 156,
   "id": "14308d41",
   "metadata": {},
   "outputs": [],
   "source": [
    "# Create a rank 1 ndarray that contains a random permutation of the row indices of `X_norm`\n",
    "row_indices = np.random.permutation(X_norm.shape[0])"
   ]
  },
  {
   "cell_type": "markdown",
   "id": "3bf14626",
   "metadata": {},
   "source": [
    "Now you can create the three datasets using the `row_indices` ndarray to select the rows that will go into each dataset. Rememeber that the Training Set contains 60% of the data, the Cross Validation Set contains 20% of the data, and the Test Set contains 20% of the data. Each set requires just one line of code to create. Fill in the code below"
   ]
  },
  {
   "cell_type": "code",
   "execution_count": 157,
   "id": "79c147ac",
   "metadata": {},
   "outputs": [],
   "source": [
    "# Make any necessary calculations.\n",
    "# You can save your calculations into variables to use later.\n",
    "train_length = int(len(X_norm) * 0.6)\n",
    "\n",
    "train_validation_length = int(len(X_norm) * 0.8)\n",
    "\n",
    "# Create a Training Set\n",
    "X_train = X_norm[row_indices[:train_length], :]\n",
    "\n",
    "# Create a Cross Validation Set\n",
    "X_crossVal = X_norm[row_indices[train_length: train_validation_length], :]\n",
    "\n",
    "# Create a Test Set\n",
    "X_test = X_norm[row_indices[train_validation_length: ], :]"
   ]
  },
  {
   "cell_type": "markdown",
   "id": "599d98b7",
   "metadata": {},
   "source": [
    "If you performed the above calculations correctly, then `X_tain` should have 600 rows and 20 columns, `X_crossVal` should have 200 rows and 20 columns, and `X_test` should have 200 rows and 20 columns. You can verify this by filling the code below:"
   ]
  },
  {
   "cell_type": "code",
   "execution_count": 158,
   "id": "a7145c95",
   "metadata": {},
   "outputs": [
    {
     "name": "stdout",
     "output_type": "stream",
     "text": [
      "(600, 20)\n",
      "(200, 20)\n",
      "(200, 20)\n"
     ]
    }
   ],
   "source": [
    "# Print the shape of X_train\n",
    "print(X_train.shape)\n",
    "\n",
    "# Print the shape of X_crossVal\n",
    "print(X_crossVal.shape)\n",
    "\n",
    "# Print the shape of X_test\n",
    "print(X_test.shape)\n"
   ]
  }
 ],
 "metadata": {
  "kernelspec": {
   "display_name": "Python 3.8.10 64-bit",
   "language": "python",
   "name": "python3"
  },
  "language_info": {
   "codemirror_mode": {
    "name": "ipython",
    "version": 3
   },
   "file_extension": ".py",
   "mimetype": "text/x-python",
   "name": "python",
   "nbconvert_exporter": "python",
   "pygments_lexer": "ipython3",
   "version": "3.8.10"
  },
  "vscode": {
   "interpreter": {
    "hash": "916dbcbb3f70747c44a77c7bcd40155683ae19c65e1c03b4aa3499c5328201f1"
   }
  }
 },
 "nbformat": 4,
 "nbformat_minor": 5
}
