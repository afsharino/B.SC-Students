{
 "cells": [
  {
   "cell_type": "markdown",
   "id": "01ce5e3d",
   "metadata": {},
   "source": [
    "<div class=\"alert alert-block alert-info\">\n",
    "    <h1 align=\"center\">Pandas Mini Project</h1>\n",
    "    <h2 align=\"center\">Python programming</h2>\n",
    "    <h3 align=\"center\">Ferdowsi University of Mashhad</3>\n",
    "    <h4 align=\"center\"><a href=\"https://t.me/afsharino\">Mohammad Afshari</a></h4>\n",
    "    \n",
    "</div>"
   ]
  },
  {
   "cell_type": "markdown",
   "id": "da158287",
   "metadata": {},
   "source": [
    "**Step 1: Perform data preparation & cleaning**\n",
    "\n",
    "* Load the dataset into a data frame using Pandas</br> \n",
    "* Explore the number of rows & columns, ranges of values etc.</br>\n",
    "* Check out the type of the columns\n",
    "* Handle missing, incorrect and invalid data</br>"
   ]
  },
  {
   "cell_type": "markdown",
   "id": "80fcd416",
   "metadata": {},
   "source": [
    "<div class=\"alert alert-block alert-success\">\n",
    "    <h3 align=\"center\">Load the dataset into a data frame using Pandas</h3><br\\>\n",
    "</div>"
   ]
  },
  {
   "cell_type": "code",
   "execution_count": 52,
   "id": "a4bba5ec",
   "metadata": {},
   "outputs": [],
   "source": [
    "import pandas as pd\n",
    "import matplotlib.pyplot as plt\n",
    "df = pd.read_csv(\"../dataset/appl_1980_2014.csv\")"
   ]
  },
  {
   "cell_type": "markdown",
   "id": "30793427",
   "metadata": {},
   "source": [
    "<div class=\"alert alert-block alert-success\">\n",
    "    <h3 align=\"center\">Explore the number of rows & columns, ranges of values etc</h3><br\\>\n",
    "</div>"
   ]
  },
  {
   "cell_type": "code",
   "execution_count": 53,
   "id": "5bc06a6f",
   "metadata": {},
   "outputs": [
    {
     "data": {
      "text/plain": [
       "(8465, 7)"
      ]
     },
     "execution_count": 53,
     "metadata": {},
     "output_type": "execute_result"
    }
   ],
   "source": [
    "df.shape"
   ]
  },
  {
   "cell_type": "code",
   "execution_count": 54,
   "id": "762ff9d3",
   "metadata": {},
   "outputs": [
    {
     "data": {
      "text/plain": [
       "pandas.core.frame.DataFrame"
      ]
     },
     "execution_count": 54,
     "metadata": {},
     "output_type": "execute_result"
    }
   ],
   "source": [
    "type(df)"
   ]
  },
  {
   "cell_type": "code",
   "execution_count": 7,
   "id": "e0306326",
   "metadata": {},
   "outputs": [
    {
     "name": "stdout",
     "output_type": "stream",
     "text": [
      "<class 'pandas.core.frame.DataFrame'>\n",
      "RangeIndex: 8465 entries, 0 to 8464\n",
      "Data columns (total 7 columns):\n",
      " #   Column     Non-Null Count  Dtype  \n",
      "---  ------     --------------  -----  \n",
      " 0   Date       8465 non-null   object \n",
      " 1   Open       8465 non-null   float64\n",
      " 2   High       8465 non-null   float64\n",
      " 3   Low        8465 non-null   float64\n",
      " 4   Close      8465 non-null   float64\n",
      " 5   Volume     8465 non-null   int64  \n",
      " 6   Adj Close  8465 non-null   float64\n",
      "dtypes: float64(5), int64(1), object(1)\n",
      "memory usage: 463.1+ KB\n"
     ]
    }
   ],
   "source": [
    "df.info()"
   ]
  },
  {
   "cell_type": "code",
   "execution_count": 8,
   "id": "46a05c18",
   "metadata": {},
   "outputs": [
    {
     "data": {
      "text/html": [
       "<div>\n",
       "<style scoped>\n",
       "    .dataframe tbody tr th:only-of-type {\n",
       "        vertical-align: middle;\n",
       "    }\n",
       "\n",
       "    .dataframe tbody tr th {\n",
       "        vertical-align: top;\n",
       "    }\n",
       "\n",
       "    .dataframe thead th {\n",
       "        text-align: right;\n",
       "    }\n",
       "</style>\n",
       "<table border=\"1\" class=\"dataframe\">\n",
       "  <thead>\n",
       "    <tr style=\"text-align: right;\">\n",
       "      <th></th>\n",
       "      <th>Date</th>\n",
       "      <th>Open</th>\n",
       "      <th>High</th>\n",
       "      <th>Low</th>\n",
       "      <th>Close</th>\n",
       "      <th>Volume</th>\n",
       "      <th>Adj Close</th>\n",
       "    </tr>\n",
       "  </thead>\n",
       "  <tbody>\n",
       "    <tr>\n",
       "      <th>0</th>\n",
       "      <td>2014-07-08</td>\n",
       "      <td>96.27</td>\n",
       "      <td>96.80</td>\n",
       "      <td>93.92</td>\n",
       "      <td>95.35</td>\n",
       "      <td>65130000</td>\n",
       "      <td>95.35</td>\n",
       "    </tr>\n",
       "    <tr>\n",
       "      <th>1</th>\n",
       "      <td>2014-07-07</td>\n",
       "      <td>94.14</td>\n",
       "      <td>95.99</td>\n",
       "      <td>94.10</td>\n",
       "      <td>95.97</td>\n",
       "      <td>56305400</td>\n",
       "      <td>95.97</td>\n",
       "    </tr>\n",
       "    <tr>\n",
       "      <th>2</th>\n",
       "      <td>2014-07-03</td>\n",
       "      <td>93.67</td>\n",
       "      <td>94.10</td>\n",
       "      <td>93.20</td>\n",
       "      <td>94.03</td>\n",
       "      <td>22891800</td>\n",
       "      <td>94.03</td>\n",
       "    </tr>\n",
       "    <tr>\n",
       "      <th>3</th>\n",
       "      <td>2014-07-02</td>\n",
       "      <td>93.87</td>\n",
       "      <td>94.06</td>\n",
       "      <td>93.09</td>\n",
       "      <td>93.48</td>\n",
       "      <td>28420900</td>\n",
       "      <td>93.48</td>\n",
       "    </tr>\n",
       "    <tr>\n",
       "      <th>4</th>\n",
       "      <td>2014-07-01</td>\n",
       "      <td>93.52</td>\n",
       "      <td>94.07</td>\n",
       "      <td>93.13</td>\n",
       "      <td>93.52</td>\n",
       "      <td>38170200</td>\n",
       "      <td>93.52</td>\n",
       "    </tr>\n",
       "  </tbody>\n",
       "</table>\n",
       "</div>"
      ],
      "text/plain": [
       "         Date   Open   High    Low  Close    Volume  Adj Close\n",
       "0  2014-07-08  96.27  96.80  93.92  95.35  65130000      95.35\n",
       "1  2014-07-07  94.14  95.99  94.10  95.97  56305400      95.97\n",
       "2  2014-07-03  93.67  94.10  93.20  94.03  22891800      94.03\n",
       "3  2014-07-02  93.87  94.06  93.09  93.48  28420900      93.48\n",
       "4  2014-07-01  93.52  94.07  93.13  93.52  38170200      93.52"
      ]
     },
     "execution_count": 8,
     "metadata": {},
     "output_type": "execute_result"
    }
   ],
   "source": [
    "df.head()"
   ]
  },
  {
   "cell_type": "code",
   "execution_count": 55,
   "id": "af0acce5",
   "metadata": {},
   "outputs": [
    {
     "data": {
      "text/html": [
       "<div>\n",
       "<style scoped>\n",
       "    .dataframe tbody tr th:only-of-type {\n",
       "        vertical-align: middle;\n",
       "    }\n",
       "\n",
       "    .dataframe tbody tr th {\n",
       "        vertical-align: top;\n",
       "    }\n",
       "\n",
       "    .dataframe thead th {\n",
       "        text-align: right;\n",
       "    }\n",
       "</style>\n",
       "<table border=\"1\" class=\"dataframe\">\n",
       "  <thead>\n",
       "    <tr style=\"text-align: right;\">\n",
       "      <th></th>\n",
       "      <th>Date</th>\n",
       "      <th>Open</th>\n",
       "      <th>High</th>\n",
       "      <th>Low</th>\n",
       "      <th>Close</th>\n",
       "      <th>Volume</th>\n",
       "      <th>Adj Close</th>\n",
       "    </tr>\n",
       "  </thead>\n",
       "  <tbody>\n",
       "    <tr>\n",
       "      <th>8460</th>\n",
       "      <td>1980-12-18</td>\n",
       "      <td>26.63</td>\n",
       "      <td>26.75</td>\n",
       "      <td>26.63</td>\n",
       "      <td>26.63</td>\n",
       "      <td>18362400</td>\n",
       "      <td>0.41</td>\n",
       "    </tr>\n",
       "    <tr>\n",
       "      <th>8461</th>\n",
       "      <td>1980-12-17</td>\n",
       "      <td>25.87</td>\n",
       "      <td>26.00</td>\n",
       "      <td>25.87</td>\n",
       "      <td>25.87</td>\n",
       "      <td>21610400</td>\n",
       "      <td>0.40</td>\n",
       "    </tr>\n",
       "    <tr>\n",
       "      <th>8462</th>\n",
       "      <td>1980-12-16</td>\n",
       "      <td>25.37</td>\n",
       "      <td>25.37</td>\n",
       "      <td>25.25</td>\n",
       "      <td>25.25</td>\n",
       "      <td>26432000</td>\n",
       "      <td>0.39</td>\n",
       "    </tr>\n",
       "    <tr>\n",
       "      <th>8463</th>\n",
       "      <td>1980-12-15</td>\n",
       "      <td>27.38</td>\n",
       "      <td>27.38</td>\n",
       "      <td>27.25</td>\n",
       "      <td>27.25</td>\n",
       "      <td>43971200</td>\n",
       "      <td>0.42</td>\n",
       "    </tr>\n",
       "    <tr>\n",
       "      <th>8464</th>\n",
       "      <td>1980-12-12</td>\n",
       "      <td>28.75</td>\n",
       "      <td>28.87</td>\n",
       "      <td>28.75</td>\n",
       "      <td>28.75</td>\n",
       "      <td>117258400</td>\n",
       "      <td>0.45</td>\n",
       "    </tr>\n",
       "  </tbody>\n",
       "</table>\n",
       "</div>"
      ],
      "text/plain": [
       "            Date   Open   High    Low  Close     Volume  Adj Close\n",
       "8460  1980-12-18  26.63  26.75  26.63  26.63   18362400       0.41\n",
       "8461  1980-12-17  25.87  26.00  25.87  25.87   21610400       0.40\n",
       "8462  1980-12-16  25.37  25.37  25.25  25.25   26432000       0.39\n",
       "8463  1980-12-15  27.38  27.38  27.25  27.25   43971200       0.42\n",
       "8464  1980-12-12  28.75  28.87  28.75  28.75  117258400       0.45"
      ]
     },
     "execution_count": 55,
     "metadata": {},
     "output_type": "execute_result"
    }
   ],
   "source": [
    "df.tail()"
   ]
  },
  {
   "cell_type": "code",
   "execution_count": 56,
   "id": "44ebce65",
   "metadata": {},
   "outputs": [
    {
     "data": {
      "text/html": [
       "<div>\n",
       "<style scoped>\n",
       "    .dataframe tbody tr th:only-of-type {\n",
       "        vertical-align: middle;\n",
       "    }\n",
       "\n",
       "    .dataframe tbody tr th {\n",
       "        vertical-align: top;\n",
       "    }\n",
       "\n",
       "    .dataframe thead th {\n",
       "        text-align: right;\n",
       "    }\n",
       "</style>\n",
       "<table border=\"1\" class=\"dataframe\">\n",
       "  <thead>\n",
       "    <tr style=\"text-align: right;\">\n",
       "      <th></th>\n",
       "      <th>Date</th>\n",
       "      <th>Open</th>\n",
       "      <th>High</th>\n",
       "      <th>Low</th>\n",
       "      <th>Close</th>\n",
       "      <th>Volume</th>\n",
       "      <th>Adj Close</th>\n",
       "    </tr>\n",
       "  </thead>\n",
       "  <tbody>\n",
       "    <tr>\n",
       "      <th>5604</th>\n",
       "      <td>1992-04-07</td>\n",
       "      <td>61.00</td>\n",
       "      <td>61.25</td>\n",
       "      <td>57.25</td>\n",
       "      <td>57.25</td>\n",
       "      <td>57554000</td>\n",
       "      <td>1.87</td>\n",
       "    </tr>\n",
       "    <tr>\n",
       "      <th>1698</th>\n",
       "      <td>2007-10-08</td>\n",
       "      <td>163.49</td>\n",
       "      <td>167.91</td>\n",
       "      <td>162.97</td>\n",
       "      <td>167.91</td>\n",
       "      <td>208982200</td>\n",
       "      <td>22.93</td>\n",
       "    </tr>\n",
       "    <tr>\n",
       "      <th>6983</th>\n",
       "      <td>1986-10-23</td>\n",
       "      <td>32.50</td>\n",
       "      <td>33.13</td>\n",
       "      <td>32.50</td>\n",
       "      <td>33.13</td>\n",
       "      <td>30783200</td>\n",
       "      <td>0.52</td>\n",
       "    </tr>\n",
       "    <tr>\n",
       "      <th>6663</th>\n",
       "      <td>1988-01-29</td>\n",
       "      <td>41.50</td>\n",
       "      <td>41.75</td>\n",
       "      <td>40.25</td>\n",
       "      <td>41.50</td>\n",
       "      <td>66360000</td>\n",
       "      <td>1.30</td>\n",
       "    </tr>\n",
       "    <tr>\n",
       "      <th>2245</th>\n",
       "      <td>2005-08-04</td>\n",
       "      <td>42.89</td>\n",
       "      <td>43.00</td>\n",
       "      <td>42.29</td>\n",
       "      <td>42.71</td>\n",
       "      <td>67326000</td>\n",
       "      <td>5.83</td>\n",
       "    </tr>\n",
       "    <tr>\n",
       "      <th>1838</th>\n",
       "      <td>2007-03-20</td>\n",
       "      <td>91.35</td>\n",
       "      <td>91.84</td>\n",
       "      <td>91.06</td>\n",
       "      <td>91.48</td>\n",
       "      <td>122229100</td>\n",
       "      <td>12.49</td>\n",
       "    </tr>\n",
       "    <tr>\n",
       "      <th>2101</th>\n",
       "      <td>2006-03-02</td>\n",
       "      <td>68.99</td>\n",
       "      <td>69.99</td>\n",
       "      <td>68.67</td>\n",
       "      <td>69.61</td>\n",
       "      <td>156318400</td>\n",
       "      <td>9.50</td>\n",
       "    </tr>\n",
       "    <tr>\n",
       "      <th>473</th>\n",
       "      <td>2012-08-16</td>\n",
       "      <td>631.21</td>\n",
       "      <td>636.76</td>\n",
       "      <td>630.50</td>\n",
       "      <td>636.34</td>\n",
       "      <td>63633500</td>\n",
       "      <td>87.26</td>\n",
       "    </tr>\n",
       "    <tr>\n",
       "      <th>7297</th>\n",
       "      <td>1985-07-29</td>\n",
       "      <td>16.63</td>\n",
       "      <td>16.63</td>\n",
       "      <td>16.00</td>\n",
       "      <td>16.00</td>\n",
       "      <td>19437600</td>\n",
       "      <td>0.25</td>\n",
       "    </tr>\n",
       "    <tr>\n",
       "      <th>5914</th>\n",
       "      <td>1991-01-16</td>\n",
       "      <td>47.00</td>\n",
       "      <td>50.00</td>\n",
       "      <td>46.75</td>\n",
       "      <td>49.75</td>\n",
       "      <td>97658400</td>\n",
       "      <td>1.61</td>\n",
       "    </tr>\n",
       "  </tbody>\n",
       "</table>\n",
       "</div>"
      ],
      "text/plain": [
       "            Date    Open    High     Low   Close     Volume  Adj Close\n",
       "5604  1992-04-07   61.00   61.25   57.25   57.25   57554000       1.87\n",
       "1698  2007-10-08  163.49  167.91  162.97  167.91  208982200      22.93\n",
       "6983  1986-10-23   32.50   33.13   32.50   33.13   30783200       0.52\n",
       "6663  1988-01-29   41.50   41.75   40.25   41.50   66360000       1.30\n",
       "2245  2005-08-04   42.89   43.00   42.29   42.71   67326000       5.83\n",
       "1838  2007-03-20   91.35   91.84   91.06   91.48  122229100      12.49\n",
       "2101  2006-03-02   68.99   69.99   68.67   69.61  156318400       9.50\n",
       "473   2012-08-16  631.21  636.76  630.50  636.34   63633500      87.26\n",
       "7297  1985-07-29   16.63   16.63   16.00   16.00   19437600       0.25\n",
       "5914  1991-01-16   47.00   50.00   46.75   49.75   97658400       1.61"
      ]
     },
     "execution_count": 56,
     "metadata": {},
     "output_type": "execute_result"
    }
   ],
   "source": [
    "df.sample(10)"
   ]
  },
  {
   "cell_type": "markdown",
   "id": "6629953e",
   "metadata": {},
   "source": [
    "<div class=\"alert alert-block alert-success\">\n",
    "    <h3 align=\"center\">Check out the type of the columns</h3><br\\>\n",
    "</div>"
   ]
  },
  {
   "cell_type": "code",
   "execution_count": 10,
   "id": "fe1ba123",
   "metadata": {},
   "outputs": [
    {
     "data": {
      "text/plain": [
       "Index(['Date', 'Open', 'High', 'Low', 'Close', 'Volume', 'Adj Close'], dtype='object')"
      ]
     },
     "execution_count": 10,
     "metadata": {},
     "output_type": "execute_result"
    }
   ],
   "source": [
    "df.columns"
   ]
  },
  {
   "cell_type": "code",
   "execution_count": 11,
   "id": "29626b34",
   "metadata": {},
   "outputs": [
    {
     "data": {
      "text/plain": [
       "Date          object\n",
       "Open         float64\n",
       "High         float64\n",
       "Low          float64\n",
       "Close        float64\n",
       "Volume         int64\n",
       "Adj Close    float64\n",
       "dtype: object"
      ]
     },
     "execution_count": 11,
     "metadata": {},
     "output_type": "execute_result"
    }
   ],
   "source": [
    "df.dtypes"
   ]
  },
  {
   "cell_type": "markdown",
   "id": "daf53507",
   "metadata": {},
   "source": [
    "<div class=\"alert alert-block alert-success\">\n",
    "    <h3 align=\"center\">Handle missing, incorrect and invalid data</h3><br\\>\n",
    "</div>"
   ]
  },
  {
   "cell_type": "code",
   "execution_count": 60,
   "id": "3df36586",
   "metadata": {},
   "outputs": [
    {
     "data": {
      "text/plain": [
       "Date         False\n",
       "Open         False\n",
       "High         False\n",
       "Low          False\n",
       "Close        False\n",
       "Volume       False\n",
       "Adj Close    False\n",
       "dtype: bool"
      ]
     },
     "execution_count": 60,
     "metadata": {},
     "output_type": "execute_result"
    }
   ],
   "source": [
    "df.isnull().any()"
   ]
  },
  {
   "cell_type": "code",
   "execution_count": 61,
   "id": "67b65fdb",
   "metadata": {},
   "outputs": [
    {
     "data": {
      "text/plain": [
       "Date         0\n",
       "Open         0\n",
       "High         0\n",
       "Low          0\n",
       "Close        0\n",
       "Volume       0\n",
       "Adj Close    0\n",
       "dtype: int64"
      ]
     },
     "execution_count": 61,
     "metadata": {},
     "output_type": "execute_result"
    }
   ],
   "source": [
    "df.isnull().sum()"
   ]
  },
  {
   "cell_type": "code",
   "execution_count": 63,
   "id": "d77b6e64",
   "metadata": {},
   "outputs": [
    {
     "data": {
      "text/plain": [
       "Date         False\n",
       "Open         False\n",
       "High         False\n",
       "Low          False\n",
       "Close        False\n",
       "Volume       False\n",
       "Adj Close    False\n",
       "dtype: bool"
      ]
     },
     "execution_count": 63,
     "metadata": {},
     "output_type": "execute_result"
    }
   ],
   "source": [
    "df.isna().any()"
   ]
  },
  {
   "cell_type": "code",
   "execution_count": 70,
   "id": "864ad293",
   "metadata": {},
   "outputs": [
    {
     "data": {
      "image/png": "[encoded data removed]",
      "text/plain": [
       "<Figure size 1800x720 with 2 Axes>"
      ]
     },
     "metadata": {
      "needs_background": "light"
     },
     "output_type": "display_data"
    }
   ],
   "source": [
    "import missingno as msno\n",
    "msno.matrix(df)\n",
    "plt.show()"
   ]
  },
  {
   "cell_type": "markdown",
   "id": "e10c711c",
   "metadata": {},
   "source": [
    "**Step 2: Perform exploratory analysis**</br>\n",
    "* Compute the mean, sum, range and other interesting statistics for numeric columns</br>\n",
    "* Adding Date,Month,Day and WeekDay Columns in DataFrame</br>\n",
    "* Set the date as the index </br>\n",
    "* Is there any duplicate dates?</br>\n",
    "* It seems the index is from the most recent date. Make the first entry the oldest date.</br>\n",
    "* Get the last business day of each month</br>\n",
    "* What is the difference in days between the first day and the oldest? </br>\n",
    "* How many months in the data we have?"
   ]
  },
  {
   "cell_type": "markdown",
   "id": "5ee4ff87",
   "metadata": {},
   "source": [
    "<div class=\"alert alert-block alert-success\">\n",
    "    <h4 align=\"center\">Compute the mean, sum, range and other interesting statistics for numeric columns</h4>\n",
    "</div>"
   ]
  },
  {
   "cell_type": "code",
   "execution_count": 71,
   "id": "cde10d8b",
   "metadata": {},
   "outputs": [
    {
     "data": {
      "text/html": [
       "<div>\n",
       "<style scoped>\n",
       "    .dataframe tbody tr th:only-of-type {\n",
       "        vertical-align: middle;\n",
       "    }\n",
       "\n",
       "    .dataframe tbody tr th {\n",
       "        vertical-align: top;\n",
       "    }\n",
       "\n",
       "    .dataframe thead th {\n",
       "        text-align: right;\n",
       "    }\n",
       "</style>\n",
       "<table border=\"1\" class=\"dataframe\">\n",
       "  <thead>\n",
       "    <tr style=\"text-align: right;\">\n",
       "      <th></th>\n",
       "      <th>Open</th>\n",
       "      <th>High</th>\n",
       "      <th>Low</th>\n",
       "      <th>Close</th>\n",
       "      <th>Volume</th>\n",
       "      <th>Adj Close</th>\n",
       "    </tr>\n",
       "  </thead>\n",
       "  <tbody>\n",
       "    <tr>\n",
       "      <th>count</th>\n",
       "      <td>8465.000000</td>\n",
       "      <td>8465.000000</td>\n",
       "      <td>8465.000000</td>\n",
       "      <td>8465.000000</td>\n",
       "      <td>8.465000e+03</td>\n",
       "      <td>8465.000000</td>\n",
       "    </tr>\n",
       "    <tr>\n",
       "      <th>mean</th>\n",
       "      <td>98.593926</td>\n",
       "      <td>99.848683</td>\n",
       "      <td>97.226790</td>\n",
       "      <td>98.549199</td>\n",
       "      <td>9.391214e+07</td>\n",
       "      <td>11.095014</td>\n",
       "    </tr>\n",
       "    <tr>\n",
       "      <th>std</th>\n",
       "      <td>141.965350</td>\n",
       "      <td>143.155674</td>\n",
       "      <td>140.548326</td>\n",
       "      <td>141.877244</td>\n",
       "      <td>8.993202e+07</td>\n",
       "      <td>21.133016</td>\n",
       "    </tr>\n",
       "    <tr>\n",
       "      <th>min</th>\n",
       "      <td>11.120000</td>\n",
       "      <td>11.120000</td>\n",
       "      <td>11.000000</td>\n",
       "      <td>11.000000</td>\n",
       "      <td>2.504000e+05</td>\n",
       "      <td>0.170000</td>\n",
       "    </tr>\n",
       "    <tr>\n",
       "      <th>25%</th>\n",
       "      <td>25.750000</td>\n",
       "      <td>26.000000</td>\n",
       "      <td>25.120000</td>\n",
       "      <td>25.630000</td>\n",
       "      <td>3.704960e+07</td>\n",
       "      <td>0.900000</td>\n",
       "    </tr>\n",
       "    <tr>\n",
       "      <th>50%</th>\n",
       "      <td>40.750000</td>\n",
       "      <td>41.500000</td>\n",
       "      <td>40.000000</td>\n",
       "      <td>40.750000</td>\n",
       "      <td>6.636000e+07</td>\n",
       "      <td>1.410000</td>\n",
       "    </tr>\n",
       "    <tr>\n",
       "      <th>75%</th>\n",
       "      <td>79.500000</td>\n",
       "      <td>81.000000</td>\n",
       "      <td>78.740000</td>\n",
       "      <td>80.000000</td>\n",
       "      <td>1.177701e+08</td>\n",
       "      <td>8.660000</td>\n",
       "    </tr>\n",
       "    <tr>\n",
       "      <th>max</th>\n",
       "      <td>702.410000</td>\n",
       "      <td>705.070000</td>\n",
       "      <td>699.570000</td>\n",
       "      <td>702.100000</td>\n",
       "      <td>1.855410e+09</td>\n",
       "      <td>96.280000</td>\n",
       "    </tr>\n",
       "  </tbody>\n",
       "</table>\n",
       "</div>"
      ],
      "text/plain": [
       "              Open         High          Low        Close        Volume  \\\n",
       "count  8465.000000  8465.000000  8465.000000  8465.000000  8.465000e+03   \n",
       "mean     98.593926    99.848683    97.226790    98.549199  9.391214e+07   \n",
       "std     141.965350   143.155674   140.548326   141.877244  8.993202e+07   \n",
       "min      11.120000    11.120000    11.000000    11.000000  2.504000e+05   \n",
       "25%      25.750000    26.000000    25.120000    25.630000  3.704960e+07   \n",
       "50%      40.750000    41.500000    40.000000    40.750000  6.636000e+07   \n",
       "75%      79.500000    81.000000    78.740000    80.000000  1.177701e+08   \n",
       "max     702.410000   705.070000   699.570000   702.100000  1.855410e+09   \n",
       "\n",
       "         Adj Close  \n",
       "count  8465.000000  \n",
       "mean     11.095014  \n",
       "std      21.133016  \n",
       "min       0.170000  \n",
       "25%       0.900000  \n",
       "50%       1.410000  \n",
       "75%       8.660000  \n",
       "max      96.280000  "
      ]
     },
     "execution_count": 71,
     "metadata": {},
     "output_type": "execute_result"
    }
   ],
   "source": [
    "df.describe()"
   ]
  },
  {
   "cell_type": "code",
   "execution_count": 72,
   "id": "b4fd88a7",
   "metadata": {},
   "outputs": [
    {
     "data": {
      "text/plain": [
       "93912144.6662729"
      ]
     },
     "execution_count": 72,
     "metadata": {},
     "output_type": "execute_result"
    }
   ],
   "source": [
    "df[\"Volume\"].mean()"
   ]
  },
  {
   "cell_type": "code",
   "execution_count": 73,
   "id": "938f6415",
   "metadata": {},
   "outputs": [
    {
     "data": {
      "text/plain": [
       "794966304600"
      ]
     },
     "execution_count": 73,
     "metadata": {},
     "output_type": "execute_result"
    }
   ],
   "source": [
    "df[\"Volume\"].sum()"
   ]
  },
  {
   "cell_type": "code",
   "execution_count": 74,
   "id": "37730769",
   "metadata": {},
   "outputs": [
    {
     "data": {
      "text/plain": [
       "250400"
      ]
     },
     "execution_count": 74,
     "metadata": {},
     "output_type": "execute_result"
    }
   ],
   "source": [
    "df[\"Volume\"].min()"
   ]
  },
  {
   "cell_type": "code",
   "execution_count": 75,
   "id": "e4431dd4",
   "metadata": {},
   "outputs": [
    {
     "data": {
      "text/plain": [
       "1855410200"
      ]
     },
     "execution_count": 75,
     "metadata": {},
     "output_type": "execute_result"
    }
   ],
   "source": [
    "df[\"Volume\"].max()"
   ]
  },
  {
   "cell_type": "code",
   "execution_count": 76,
   "id": "1974216d",
   "metadata": {},
   "outputs": [
    {
     "data": {
      "text/plain": [
       "11.12"
      ]
     },
     "execution_count": 76,
     "metadata": {},
     "output_type": "execute_result"
    }
   ],
   "source": [
    "df[\"High\"].min()"
   ]
  },
  {
   "cell_type": "code",
   "execution_count": 77,
   "id": "7b48af0f",
   "metadata": {},
   "outputs": [
    {
     "data": {
      "text/plain": [
       "98.54919905493229"
      ]
     },
     "execution_count": 77,
     "metadata": {},
     "output_type": "execute_result"
    }
   ],
   "source": [
    "df[\"Close\"].mean()"
   ]
  },
  {
   "cell_type": "code",
   "execution_count": 78,
   "id": "ad1b1b0b",
   "metadata": {},
   "outputs": [
    {
     "data": {
      "text/plain": [
       "702.41"
      ]
     },
     "execution_count": 78,
     "metadata": {},
     "output_type": "execute_result"
    }
   ],
   "source": [
    "df[\"Open\"].max()"
   ]
  },
  {
   "cell_type": "code",
   "execution_count": 79,
   "id": "d029c913",
   "metadata": {},
   "outputs": [
    {
     "data": {
      "text/plain": [
       "<AxesSubplot:>"
      ]
     },
     "execution_count": 79,
     "metadata": {},
     "output_type": "execute_result"
    },
    {
     "data": {
      "image/png": "[encoded data removed]",
      "text/plain": [
       "<Figure size 432x288 with 2 Axes>"
      ]
     },
     "metadata": {
      "needs_background": "light"
     },
     "output_type": "display_data"
    }
   ],
   "source": [
    "import seaborn as sns\n",
    "correlation_df = df.corr()\n",
    "sns.heatmap(correlation_df,cmap='Reds' , annot=True)"
   ]
  },
  {
   "cell_type": "markdown",
   "id": "b949f220",
   "metadata": {},
   "source": [
    "<div class=\"alert alert-block alert-success\">\n",
    "    <h3 align=\"center\">Adding Year,Month,Day and WeekDay Columns in DataFrame</h3>\n",
    "</div>"
   ]
  },
  {
   "cell_type": "code",
   "execution_count": 80,
   "id": "e60c53f0",
   "metadata": {},
   "outputs": [
    {
     "data": {
      "text/html": [
       "<div>\n",
       "<style scoped>\n",
       "    .dataframe tbody tr th:only-of-type {\n",
       "        vertical-align: middle;\n",
       "    }\n",
       "\n",
       "    .dataframe tbody tr th {\n",
       "        vertical-align: top;\n",
       "    }\n",
       "\n",
       "    .dataframe thead th {\n",
       "        text-align: right;\n",
       "    }\n",
       "</style>\n",
       "<table border=\"1\" class=\"dataframe\">\n",
       "  <thead>\n",
       "    <tr style=\"text-align: right;\">\n",
       "      <th></th>\n",
       "      <th>Date</th>\n",
       "      <th>Open</th>\n",
       "      <th>High</th>\n",
       "      <th>Low</th>\n",
       "      <th>Close</th>\n",
       "      <th>Volume</th>\n",
       "      <th>Adj Close</th>\n",
       "      <th>Year</th>\n",
       "      <th>Month</th>\n",
       "      <th>Day</th>\n",
       "      <th>WeekDay</th>\n",
       "    </tr>\n",
       "  </thead>\n",
       "  <tbody>\n",
       "    <tr>\n",
       "      <th>4596</th>\n",
       "      <td>1996-04-02</td>\n",
       "      <td>25.63</td>\n",
       "      <td>25.63</td>\n",
       "      <td>24.87</td>\n",
       "      <td>25.00</td>\n",
       "      <td>25359600</td>\n",
       "      <td>0.85</td>\n",
       "      <td>1996</td>\n",
       "      <td>04</td>\n",
       "      <td>2</td>\n",
       "      <td>Tuesday</td>\n",
       "    </tr>\n",
       "    <tr>\n",
       "      <th>4112</th>\n",
       "      <td>1998-03-04</td>\n",
       "      <td>22.87</td>\n",
       "      <td>24.75</td>\n",
       "      <td>22.87</td>\n",
       "      <td>24.44</td>\n",
       "      <td>204456000</td>\n",
       "      <td>0.83</td>\n",
       "      <td>1998</td>\n",
       "      <td>03</td>\n",
       "      <td>4</td>\n",
       "      <td>Sunday</td>\n",
       "    </tr>\n",
       "    <tr>\n",
       "      <th>7845</th>\n",
       "      <td>1983-05-26</td>\n",
       "      <td>60.00</td>\n",
       "      <td>60.37</td>\n",
       "      <td>58.88</td>\n",
       "      <td>59.38</td>\n",
       "      <td>26392800</td>\n",
       "      <td>0.93</td>\n",
       "      <td>1983</td>\n",
       "      <td>05</td>\n",
       "      <td>26</td>\n",
       "      <td>Wednesday</td>\n",
       "    </tr>\n",
       "    <tr>\n",
       "      <th>5360</th>\n",
       "      <td>1993-03-25</td>\n",
       "      <td>53.75</td>\n",
       "      <td>54.75</td>\n",
       "      <td>53.50</td>\n",
       "      <td>54.75</td>\n",
       "      <td>42761600</td>\n",
       "      <td>1.80</td>\n",
       "      <td>1993</td>\n",
       "      <td>03</td>\n",
       "      <td>25</td>\n",
       "      <td>Monday</td>\n",
       "    </tr>\n",
       "    <tr>\n",
       "      <th>5633</th>\n",
       "      <td>1992-02-26</td>\n",
       "      <td>68.25</td>\n",
       "      <td>70.00</td>\n",
       "      <td>68.25</td>\n",
       "      <td>69.88</td>\n",
       "      <td>57271200</td>\n",
       "      <td>2.28</td>\n",
       "      <td>1992</td>\n",
       "      <td>02</td>\n",
       "      <td>26</td>\n",
       "      <td>Sunday</td>\n",
       "    </tr>\n",
       "    <tr>\n",
       "      <th>6987</th>\n",
       "      <td>1986-10-17</td>\n",
       "      <td>33.75</td>\n",
       "      <td>34.00</td>\n",
       "      <td>33.37</td>\n",
       "      <td>33.63</td>\n",
       "      <td>37968000</td>\n",
       "      <td>0.52</td>\n",
       "      <td>1986</td>\n",
       "      <td>10</td>\n",
       "      <td>17</td>\n",
       "      <td>Friday</td>\n",
       "    </tr>\n",
       "    <tr>\n",
       "      <th>3377</th>\n",
       "      <td>2001-01-31</td>\n",
       "      <td>21.50</td>\n",
       "      <td>22.50</td>\n",
       "      <td>21.44</td>\n",
       "      <td>21.62</td>\n",
       "      <td>182676200</td>\n",
       "      <td>1.48</td>\n",
       "      <td>2001</td>\n",
       "      <td>01</td>\n",
       "      <td>31</td>\n",
       "      <td>Wednesday</td>\n",
       "    </tr>\n",
       "    <tr>\n",
       "      <th>3324</th>\n",
       "      <td>2001-04-18</td>\n",
       "      <td>21.57</td>\n",
       "      <td>24.08</td>\n",
       "      <td>21.08</td>\n",
       "      <td>22.79</td>\n",
       "      <td>275210600</td>\n",
       "      <td>1.56</td>\n",
       "      <td>2001</td>\n",
       "      <td>04</td>\n",
       "      <td>18</td>\n",
       "      <td>Thursday</td>\n",
       "    </tr>\n",
       "    <tr>\n",
       "      <th>5005</th>\n",
       "      <td>1994-08-19</td>\n",
       "      <td>34.75</td>\n",
       "      <td>35.00</td>\n",
       "      <td>34.25</td>\n",
       "      <td>34.88</td>\n",
       "      <td>32636800</td>\n",
       "      <td>1.17</td>\n",
       "      <td>1994</td>\n",
       "      <td>08</td>\n",
       "      <td>19</td>\n",
       "      <td>Wednesday</td>\n",
       "    </tr>\n",
       "    <tr>\n",
       "      <th>1964</th>\n",
       "      <td>2006-09-15</td>\n",
       "      <td>74.60</td>\n",
       "      <td>74.98</td>\n",
       "      <td>73.29</td>\n",
       "      <td>74.10</td>\n",
       "      <td>245463400</td>\n",
       "      <td>10.12</td>\n",
       "      <td>2006</td>\n",
       "      <td>09</td>\n",
       "      <td>15</td>\n",
       "      <td>Sunday</td>\n",
       "    </tr>\n",
       "  </tbody>\n",
       "</table>\n",
       "</div>"
      ],
      "text/plain": [
       "            Date   Open   High    Low  Close     Volume  Adj Close  Year  \\\n",
       "4596  1996-04-02  25.63  25.63  24.87  25.00   25359600       0.85  1996   \n",
       "4112  1998-03-04  22.87  24.75  22.87  24.44  204456000       0.83  1998   \n",
       "7845  1983-05-26  60.00  60.37  58.88  59.38   26392800       0.93  1983   \n",
       "5360  1993-03-25  53.75  54.75  53.50  54.75   42761600       1.80  1993   \n",
       "5633  1992-02-26  68.25  70.00  68.25  69.88   57271200       2.28  1992   \n",
       "6987  1986-10-17  33.75  34.00  33.37  33.63   37968000       0.52  1986   \n",
       "3377  2001-01-31  21.50  22.50  21.44  21.62  182676200       1.48  2001   \n",
       "3324  2001-04-18  21.57  24.08  21.08  22.79  275210600       1.56  2001   \n",
       "5005  1994-08-19  34.75  35.00  34.25  34.88   32636800       1.17  1994   \n",
       "1964  2006-09-15  74.60  74.98  73.29  74.10  245463400      10.12  2006   \n",
       "\n",
       "     Month  Day    WeekDay  \n",
       "4596    04    2    Tuesday  \n",
       "4112    03    4     Sunday  \n",
       "7845    05   26  Wednesday  \n",
       "5360    03   25     Monday  \n",
       "5633    02   26     Sunday  \n",
       "6987    10   17     Friday  \n",
       "3377    01   31  Wednesday  \n",
       "3324    04   18   Thursday  \n",
       "5005    08   19  Wednesday  \n",
       "1964    09   15     Sunday  "
      ]
     },
     "execution_count": 80,
     "metadata": {},
     "output_type": "execute_result"
    }
   ],
   "source": [
    "df['Year'] = df.apply(lambda row:row.Date.split(\"-\")[0],axis=1)\n",
    "df['Month'] = df.apply(lambda row:row.Date.split(\"-\")[1],axis=1)\n",
    "df['Day'] = df.apply(lambda row:int(row.Date.split(\"-\")[2]),axis=1)\n",
    "\n",
    "import datetime\n",
    "df['WeekDay'] = df.apply(lambda row:datetime.datetime.strptime(row.Date, '%Y-%M-%d').strftime('%A'),axis=1)\n",
    "df.sample(10)"
   ]
  },
  {
   "cell_type": "markdown",
   "id": "88838354",
   "metadata": {},
   "source": [
    "<div class=\"alert alert-block alert-success\">\n",
    "    <h3 align=\"center\">Set the date as the index</h3>\n",
    "</div>"
   ]
  },
  {
   "cell_type": "code",
   "execution_count": 81,
   "id": "be5297fd",
   "metadata": {},
   "outputs": [],
   "source": [
    "df.set_index('Date', inplace=True)"
   ]
  },
  {
   "cell_type": "code",
   "execution_count": 82,
   "id": "0356b1d7",
   "metadata": {},
   "outputs": [
    {
     "data": {
      "text/html": [
       "<div>\n",
       "<style scoped>\n",
       "    .dataframe tbody tr th:only-of-type {\n",
       "        vertical-align: middle;\n",
       "    }\n",
       "\n",
       "    .dataframe tbody tr th {\n",
       "        vertical-align: top;\n",
       "    }\n",
       "\n",
       "    .dataframe thead th {\n",
       "        text-align: right;\n",
       "    }\n",
       "</style>\n",
       "<table border=\"1\" class=\"dataframe\">\n",
       "  <thead>\n",
       "    <tr style=\"text-align: right;\">\n",
       "      <th></th>\n",
       "      <th>Open</th>\n",
       "      <th>High</th>\n",
       "      <th>Low</th>\n",
       "      <th>Close</th>\n",
       "      <th>Volume</th>\n",
       "      <th>Adj Close</th>\n",
       "      <th>Year</th>\n",
       "      <th>Month</th>\n",
       "      <th>Day</th>\n",
       "      <th>WeekDay</th>\n",
       "    </tr>\n",
       "    <tr>\n",
       "      <th>Date</th>\n",
       "      <th></th>\n",
       "      <th></th>\n",
       "      <th></th>\n",
       "      <th></th>\n",
       "      <th></th>\n",
       "      <th></th>\n",
       "      <th></th>\n",
       "      <th></th>\n",
       "      <th></th>\n",
       "      <th></th>\n",
       "    </tr>\n",
       "  </thead>\n",
       "  <tbody>\n",
       "    <tr>\n",
       "      <th>2014-07-08</th>\n",
       "      <td>96.27</td>\n",
       "      <td>96.80</td>\n",
       "      <td>93.92</td>\n",
       "      <td>95.35</td>\n",
       "      <td>65130000</td>\n",
       "      <td>95.35</td>\n",
       "      <td>2014</td>\n",
       "      <td>07</td>\n",
       "      <td>8</td>\n",
       "      <td>Wednesday</td>\n",
       "    </tr>\n",
       "    <tr>\n",
       "      <th>2014-07-07</th>\n",
       "      <td>94.14</td>\n",
       "      <td>95.99</td>\n",
       "      <td>94.10</td>\n",
       "      <td>95.97</td>\n",
       "      <td>56305400</td>\n",
       "      <td>95.97</td>\n",
       "      <td>2014</td>\n",
       "      <td>07</td>\n",
       "      <td>7</td>\n",
       "      <td>Tuesday</td>\n",
       "    </tr>\n",
       "    <tr>\n",
       "      <th>2014-07-03</th>\n",
       "      <td>93.67</td>\n",
       "      <td>94.10</td>\n",
       "      <td>93.20</td>\n",
       "      <td>94.03</td>\n",
       "      <td>22891800</td>\n",
       "      <td>94.03</td>\n",
       "      <td>2014</td>\n",
       "      <td>07</td>\n",
       "      <td>3</td>\n",
       "      <td>Friday</td>\n",
       "    </tr>\n",
       "    <tr>\n",
       "      <th>2014-07-02</th>\n",
       "      <td>93.87</td>\n",
       "      <td>94.06</td>\n",
       "      <td>93.09</td>\n",
       "      <td>93.48</td>\n",
       "      <td>28420900</td>\n",
       "      <td>93.48</td>\n",
       "      <td>2014</td>\n",
       "      <td>07</td>\n",
       "      <td>2</td>\n",
       "      <td>Thursday</td>\n",
       "    </tr>\n",
       "    <tr>\n",
       "      <th>2014-07-01</th>\n",
       "      <td>93.52</td>\n",
       "      <td>94.07</td>\n",
       "      <td>93.13</td>\n",
       "      <td>93.52</td>\n",
       "      <td>38170200</td>\n",
       "      <td>93.52</td>\n",
       "      <td>2014</td>\n",
       "      <td>07</td>\n",
       "      <td>1</td>\n",
       "      <td>Wednesday</td>\n",
       "    </tr>\n",
       "    <tr>\n",
       "      <th>...</th>\n",
       "      <td>...</td>\n",
       "      <td>...</td>\n",
       "      <td>...</td>\n",
       "      <td>...</td>\n",
       "      <td>...</td>\n",
       "      <td>...</td>\n",
       "      <td>...</td>\n",
       "      <td>...</td>\n",
       "      <td>...</td>\n",
       "      <td>...</td>\n",
       "    </tr>\n",
       "    <tr>\n",
       "      <th>1980-12-18</th>\n",
       "      <td>26.63</td>\n",
       "      <td>26.75</td>\n",
       "      <td>26.63</td>\n",
       "      <td>26.63</td>\n",
       "      <td>18362400</td>\n",
       "      <td>0.41</td>\n",
       "      <td>1980</td>\n",
       "      <td>12</td>\n",
       "      <td>18</td>\n",
       "      <td>Friday</td>\n",
       "    </tr>\n",
       "    <tr>\n",
       "      <th>1980-12-17</th>\n",
       "      <td>25.87</td>\n",
       "      <td>26.00</td>\n",
       "      <td>25.87</td>\n",
       "      <td>25.87</td>\n",
       "      <td>21610400</td>\n",
       "      <td>0.40</td>\n",
       "      <td>1980</td>\n",
       "      <td>12</td>\n",
       "      <td>17</td>\n",
       "      <td>Thursday</td>\n",
       "    </tr>\n",
       "    <tr>\n",
       "      <th>1980-12-16</th>\n",
       "      <td>25.37</td>\n",
       "      <td>25.37</td>\n",
       "      <td>25.25</td>\n",
       "      <td>25.25</td>\n",
       "      <td>26432000</td>\n",
       "      <td>0.39</td>\n",
       "      <td>1980</td>\n",
       "      <td>12</td>\n",
       "      <td>16</td>\n",
       "      <td>Wednesday</td>\n",
       "    </tr>\n",
       "    <tr>\n",
       "      <th>1980-12-15</th>\n",
       "      <td>27.38</td>\n",
       "      <td>27.38</td>\n",
       "      <td>27.25</td>\n",
       "      <td>27.25</td>\n",
       "      <td>43971200</td>\n",
       "      <td>0.42</td>\n",
       "      <td>1980</td>\n",
       "      <td>12</td>\n",
       "      <td>15</td>\n",
       "      <td>Tuesday</td>\n",
       "    </tr>\n",
       "    <tr>\n",
       "      <th>1980-12-12</th>\n",
       "      <td>28.75</td>\n",
       "      <td>28.87</td>\n",
       "      <td>28.75</td>\n",
       "      <td>28.75</td>\n",
       "      <td>117258400</td>\n",
       "      <td>0.45</td>\n",
       "      <td>1980</td>\n",
       "      <td>12</td>\n",
       "      <td>12</td>\n",
       "      <td>Saturday</td>\n",
       "    </tr>\n",
       "  </tbody>\n",
       "</table>\n",
       "<p>8465 rows × 10 columns</p>\n",
       "</div>"
      ],
      "text/plain": [
       "             Open   High    Low  Close     Volume  Adj Close  Year Month  Day  \\\n",
       "Date                                                                            \n",
       "2014-07-08  96.27  96.80  93.92  95.35   65130000      95.35  2014    07    8   \n",
       "2014-07-07  94.14  95.99  94.10  95.97   56305400      95.97  2014    07    7   \n",
       "2014-07-03  93.67  94.10  93.20  94.03   22891800      94.03  2014    07    3   \n",
       "2014-07-02  93.87  94.06  93.09  93.48   28420900      93.48  2014    07    2   \n",
       "2014-07-01  93.52  94.07  93.13  93.52   38170200      93.52  2014    07    1   \n",
       "...           ...    ...    ...    ...        ...        ...   ...   ...  ...   \n",
       "1980-12-18  26.63  26.75  26.63  26.63   18362400       0.41  1980    12   18   \n",
       "1980-12-17  25.87  26.00  25.87  25.87   21610400       0.40  1980    12   17   \n",
       "1980-12-16  25.37  25.37  25.25  25.25   26432000       0.39  1980    12   16   \n",
       "1980-12-15  27.38  27.38  27.25  27.25   43971200       0.42  1980    12   15   \n",
       "1980-12-12  28.75  28.87  28.75  28.75  117258400       0.45  1980    12   12   \n",
       "\n",
       "              WeekDay  \n",
       "Date                   \n",
       "2014-07-08  Wednesday  \n",
       "2014-07-07    Tuesday  \n",
       "2014-07-03     Friday  \n",
       "2014-07-02   Thursday  \n",
       "2014-07-01  Wednesday  \n",
       "...               ...  \n",
       "1980-12-18     Friday  \n",
       "1980-12-17   Thursday  \n",
       "1980-12-16  Wednesday  \n",
       "1980-12-15    Tuesday  \n",
       "1980-12-12   Saturday  \n",
       "\n",
       "[8465 rows x 10 columns]"
      ]
     },
     "execution_count": 82,
     "metadata": {},
     "output_type": "execute_result"
    }
   ],
   "source": [
    "df"
   ]
  },
  {
   "cell_type": "markdown",
   "id": "6db5abc1",
   "metadata": {},
   "source": [
    "<div class=\"alert alert-block alert-success\">\n",
    "    <h3 align=\"center\">Is there any duplicate dates?</h3>\n",
    "</div>"
   ]
  },
  {
   "cell_type": "code",
   "execution_count": 83,
   "id": "12367868",
   "metadata": {},
   "outputs": [
    {
     "data": {
      "text/plain": [
       "False"
      ]
     },
     "execution_count": 83,
     "metadata": {},
     "output_type": "execute_result"
    }
   ],
   "source": [
    "df.index.duplicated().any()"
   ]
  },
  {
   "cell_type": "markdown",
   "id": "0467f50a",
   "metadata": {},
   "source": [
    "<div class=\"alert alert-block alert-success\">\n",
    "    <h4 align=\"center\">it seems the index is from the most recent date. Make the first entry the oldest date.</h4>\n",
    "</div>"
   ]
  },
  {
   "cell_type": "code",
   "execution_count": 84,
   "id": "ccd52f7c",
   "metadata": {},
   "outputs": [
    {
     "data": {
      "text/html": [
       "<div>\n",
       "<style scoped>\n",
       "    .dataframe tbody tr th:only-of-type {\n",
       "        vertical-align: middle;\n",
       "    }\n",
       "\n",
       "    .dataframe tbody tr th {\n",
       "        vertical-align: top;\n",
       "    }\n",
       "\n",
       "    .dataframe thead th {\n",
       "        text-align: right;\n",
       "    }\n",
       "</style>\n",
       "<table border=\"1\" class=\"dataframe\">\n",
       "  <thead>\n",
       "    <tr style=\"text-align: right;\">\n",
       "      <th></th>\n",
       "      <th>Open</th>\n",
       "      <th>High</th>\n",
       "      <th>Low</th>\n",
       "      <th>Close</th>\n",
       "      <th>Volume</th>\n",
       "      <th>Adj Close</th>\n",
       "      <th>Year</th>\n",
       "      <th>Month</th>\n",
       "      <th>Day</th>\n",
       "      <th>WeekDay</th>\n",
       "    </tr>\n",
       "    <tr>\n",
       "      <th>Date</th>\n",
       "      <th></th>\n",
       "      <th></th>\n",
       "      <th></th>\n",
       "      <th></th>\n",
       "      <th></th>\n",
       "      <th></th>\n",
       "      <th></th>\n",
       "      <th></th>\n",
       "      <th></th>\n",
       "      <th></th>\n",
       "    </tr>\n",
       "  </thead>\n",
       "  <tbody>\n",
       "    <tr>\n",
       "      <th>1980-12-12</th>\n",
       "      <td>28.75</td>\n",
       "      <td>28.87</td>\n",
       "      <td>28.75</td>\n",
       "      <td>28.75</td>\n",
       "      <td>117258400</td>\n",
       "      <td>0.45</td>\n",
       "      <td>1980</td>\n",
       "      <td>12</td>\n",
       "      <td>12</td>\n",
       "      <td>Saturday</td>\n",
       "    </tr>\n",
       "    <tr>\n",
       "      <th>1980-12-15</th>\n",
       "      <td>27.38</td>\n",
       "      <td>27.38</td>\n",
       "      <td>27.25</td>\n",
       "      <td>27.25</td>\n",
       "      <td>43971200</td>\n",
       "      <td>0.42</td>\n",
       "      <td>1980</td>\n",
       "      <td>12</td>\n",
       "      <td>15</td>\n",
       "      <td>Tuesday</td>\n",
       "    </tr>\n",
       "    <tr>\n",
       "      <th>1980-12-16</th>\n",
       "      <td>25.37</td>\n",
       "      <td>25.37</td>\n",
       "      <td>25.25</td>\n",
       "      <td>25.25</td>\n",
       "      <td>26432000</td>\n",
       "      <td>0.39</td>\n",
       "      <td>1980</td>\n",
       "      <td>12</td>\n",
       "      <td>16</td>\n",
       "      <td>Wednesday</td>\n",
       "    </tr>\n",
       "    <tr>\n",
       "      <th>1980-12-17</th>\n",
       "      <td>25.87</td>\n",
       "      <td>26.00</td>\n",
       "      <td>25.87</td>\n",
       "      <td>25.87</td>\n",
       "      <td>21610400</td>\n",
       "      <td>0.40</td>\n",
       "      <td>1980</td>\n",
       "      <td>12</td>\n",
       "      <td>17</td>\n",
       "      <td>Thursday</td>\n",
       "    </tr>\n",
       "    <tr>\n",
       "      <th>1980-12-18</th>\n",
       "      <td>26.63</td>\n",
       "      <td>26.75</td>\n",
       "      <td>26.63</td>\n",
       "      <td>26.63</td>\n",
       "      <td>18362400</td>\n",
       "      <td>0.41</td>\n",
       "      <td>1980</td>\n",
       "      <td>12</td>\n",
       "      <td>18</td>\n",
       "      <td>Friday</td>\n",
       "    </tr>\n",
       "    <tr>\n",
       "      <th>...</th>\n",
       "      <td>...</td>\n",
       "      <td>...</td>\n",
       "      <td>...</td>\n",
       "      <td>...</td>\n",
       "      <td>...</td>\n",
       "      <td>...</td>\n",
       "      <td>...</td>\n",
       "      <td>...</td>\n",
       "      <td>...</td>\n",
       "      <td>...</td>\n",
       "    </tr>\n",
       "    <tr>\n",
       "      <th>2014-07-01</th>\n",
       "      <td>93.52</td>\n",
       "      <td>94.07</td>\n",
       "      <td>93.13</td>\n",
       "      <td>93.52</td>\n",
       "      <td>38170200</td>\n",
       "      <td>93.52</td>\n",
       "      <td>2014</td>\n",
       "      <td>07</td>\n",
       "      <td>1</td>\n",
       "      <td>Wednesday</td>\n",
       "    </tr>\n",
       "    <tr>\n",
       "      <th>2014-07-02</th>\n",
       "      <td>93.87</td>\n",
       "      <td>94.06</td>\n",
       "      <td>93.09</td>\n",
       "      <td>93.48</td>\n",
       "      <td>28420900</td>\n",
       "      <td>93.48</td>\n",
       "      <td>2014</td>\n",
       "      <td>07</td>\n",
       "      <td>2</td>\n",
       "      <td>Thursday</td>\n",
       "    </tr>\n",
       "    <tr>\n",
       "      <th>2014-07-03</th>\n",
       "      <td>93.67</td>\n",
       "      <td>94.10</td>\n",
       "      <td>93.20</td>\n",
       "      <td>94.03</td>\n",
       "      <td>22891800</td>\n",
       "      <td>94.03</td>\n",
       "      <td>2014</td>\n",
       "      <td>07</td>\n",
       "      <td>3</td>\n",
       "      <td>Friday</td>\n",
       "    </tr>\n",
       "    <tr>\n",
       "      <th>2014-07-07</th>\n",
       "      <td>94.14</td>\n",
       "      <td>95.99</td>\n",
       "      <td>94.10</td>\n",
       "      <td>95.97</td>\n",
       "      <td>56305400</td>\n",
       "      <td>95.97</td>\n",
       "      <td>2014</td>\n",
       "      <td>07</td>\n",
       "      <td>7</td>\n",
       "      <td>Tuesday</td>\n",
       "    </tr>\n",
       "    <tr>\n",
       "      <th>2014-07-08</th>\n",
       "      <td>96.27</td>\n",
       "      <td>96.80</td>\n",
       "      <td>93.92</td>\n",
       "      <td>95.35</td>\n",
       "      <td>65130000</td>\n",
       "      <td>95.35</td>\n",
       "      <td>2014</td>\n",
       "      <td>07</td>\n",
       "      <td>8</td>\n",
       "      <td>Wednesday</td>\n",
       "    </tr>\n",
       "  </tbody>\n",
       "</table>\n",
       "<p>8465 rows × 10 columns</p>\n",
       "</div>"
      ],
      "text/plain": [
       "             Open   High    Low  Close     Volume  Adj Close  Year Month  Day  \\\n",
       "Date                                                                            \n",
       "1980-12-12  28.75  28.87  28.75  28.75  117258400       0.45  1980    12   12   \n",
       "1980-12-15  27.38  27.38  27.25  27.25   43971200       0.42  1980    12   15   \n",
       "1980-12-16  25.37  25.37  25.25  25.25   26432000       0.39  1980    12   16   \n",
       "1980-12-17  25.87  26.00  25.87  25.87   21610400       0.40  1980    12   17   \n",
       "1980-12-18  26.63  26.75  26.63  26.63   18362400       0.41  1980    12   18   \n",
       "...           ...    ...    ...    ...        ...        ...   ...   ...  ...   \n",
       "2014-07-01  93.52  94.07  93.13  93.52   38170200      93.52  2014    07    1   \n",
       "2014-07-02  93.87  94.06  93.09  93.48   28420900      93.48  2014    07    2   \n",
       "2014-07-03  93.67  94.10  93.20  94.03   22891800      94.03  2014    07    3   \n",
       "2014-07-07  94.14  95.99  94.10  95.97   56305400      95.97  2014    07    7   \n",
       "2014-07-08  96.27  96.80  93.92  95.35   65130000      95.35  2014    07    8   \n",
       "\n",
       "              WeekDay  \n",
       "Date                   \n",
       "1980-12-12   Saturday  \n",
       "1980-12-15    Tuesday  \n",
       "1980-12-16  Wednesday  \n",
       "1980-12-17   Thursday  \n",
       "1980-12-18     Friday  \n",
       "...               ...  \n",
       "2014-07-01  Wednesday  \n",
       "2014-07-02   Thursday  \n",
       "2014-07-03     Friday  \n",
       "2014-07-07    Tuesday  \n",
       "2014-07-08  Wednesday  \n",
       "\n",
       "[8465 rows x 10 columns]"
      ]
     },
     "execution_count": 84,
     "metadata": {},
     "output_type": "execute_result"
    }
   ],
   "source": [
    "df.sort_index()"
   ]
  },
  {
   "cell_type": "markdown",
   "id": "3ec3cf69",
   "metadata": {},
   "source": [
    "<div class=\"alert alert-block alert-success\">\n",
    "    <h3 align=\"center\">Get the last business day of each month</h3>\n",
    "</div>"
   ]
  },
  {
   "cell_type": "code",
   "execution_count": 85,
   "id": "07e79d20",
   "metadata": {},
   "outputs": [
    {
     "data": {
      "text/html": [
       "<div>\n",
       "<style scoped>\n",
       "    .dataframe tbody tr th:only-of-type {\n",
       "        vertical-align: middle;\n",
       "    }\n",
       "\n",
       "    .dataframe tbody tr th {\n",
       "        vertical-align: top;\n",
       "    }\n",
       "\n",
       "    .dataframe thead th {\n",
       "        text-align: right;\n",
       "    }\n",
       "</style>\n",
       "<table border=\"1\" class=\"dataframe\">\n",
       "  <thead>\n",
       "    <tr style=\"text-align: right;\">\n",
       "      <th></th>\n",
       "      <th></th>\n",
       "      <th>Day</th>\n",
       "      <th>WeekDay</th>\n",
       "    </tr>\n",
       "    <tr>\n",
       "      <th>Month</th>\n",
       "      <th>Year</th>\n",
       "      <th></th>\n",
       "      <th></th>\n",
       "    </tr>\n",
       "  </thead>\n",
       "  <tbody>\n",
       "    <tr>\n",
       "      <th rowspan=\"5\" valign=\"top\">01</th>\n",
       "      <th>1981</th>\n",
       "      <td>30</td>\n",
       "      <td>Wednesday</td>\n",
       "    </tr>\n",
       "    <tr>\n",
       "      <th>1982</th>\n",
       "      <td>29</td>\n",
       "      <td>Wednesday</td>\n",
       "    </tr>\n",
       "    <tr>\n",
       "      <th>1983</th>\n",
       "      <td>31</td>\n",
       "      <td>Wednesday</td>\n",
       "    </tr>\n",
       "    <tr>\n",
       "      <th>1984</th>\n",
       "      <td>31</td>\n",
       "      <td>Wednesday</td>\n",
       "    </tr>\n",
       "    <tr>\n",
       "      <th>1985</th>\n",
       "      <td>31</td>\n",
       "      <td>Wednesday</td>\n",
       "    </tr>\n",
       "    <tr>\n",
       "      <th>...</th>\n",
       "      <th>...</th>\n",
       "      <td>...</td>\n",
       "      <td>...</td>\n",
       "    </tr>\n",
       "    <tr>\n",
       "      <th rowspan=\"5\" valign=\"top\">12</th>\n",
       "      <th>2009</th>\n",
       "      <td>31</td>\n",
       "      <td>Wednesday</td>\n",
       "    </tr>\n",
       "    <tr>\n",
       "      <th>2010</th>\n",
       "      <td>31</td>\n",
       "      <td>Wednesday</td>\n",
       "    </tr>\n",
       "    <tr>\n",
       "      <th>2011</th>\n",
       "      <td>30</td>\n",
       "      <td>Wednesday</td>\n",
       "    </tr>\n",
       "    <tr>\n",
       "      <th>2012</th>\n",
       "      <td>31</td>\n",
       "      <td>Wednesday</td>\n",
       "    </tr>\n",
       "    <tr>\n",
       "      <th>2013</th>\n",
       "      <td>31</td>\n",
       "      <td>Wednesday</td>\n",
       "    </tr>\n",
       "  </tbody>\n",
       "</table>\n",
       "<p>404 rows × 2 columns</p>\n",
       "</div>"
      ],
      "text/plain": [
       "            Day    WeekDay\n",
       "Month Year                \n",
       "01    1981   30  Wednesday\n",
       "      1982   29  Wednesday\n",
       "      1983   31  Wednesday\n",
       "      1984   31  Wednesday\n",
       "      1985   31  Wednesday\n",
       "...         ...        ...\n",
       "12    2009   31  Wednesday\n",
       "      2010   31  Wednesday\n",
       "      2011   30  Wednesday\n",
       "      2012   31  Wednesday\n",
       "      2013   31  Wednesday\n",
       "\n",
       "[404 rows x 2 columns]"
      ]
     },
     "execution_count": 85,
     "metadata": {},
     "output_type": "execute_result"
    }
   ],
   "source": [
    "df.groupby(['Month','Year']).max().get(['Day','WeekDay'])"
   ]
  },
  {
   "cell_type": "markdown",
   "id": "0b442c39",
   "metadata": {},
   "source": [
    "<div class=\"alert alert-block alert-success\">\n",
    "    <h3 align=\"center\">What is the difference in days between the first day and the oldest?</h3>\n",
    "</div>"
   ]
  },
  {
   "cell_type": "code",
   "execution_count": 86,
   "id": "da0b5848",
   "metadata": {},
   "outputs": [
    {
     "data": {
      "text/plain": [
       "12261"
      ]
     },
     "execution_count": 86,
     "metadata": {},
     "output_type": "execute_result"
    }
   ],
   "source": [
    "dates = pd.to_datetime(df.index)\n",
    "(dates[0]-dates[-1]).days"
   ]
  },
  {
   "cell_type": "markdown",
   "id": "d8b7cc3f",
   "metadata": {},
   "source": [
    "<div class=\"alert alert-block alert-success\">\n",
    "    <h3 align=\"center\">How many months in the data we have?</h3><br\\>\n",
    "</div>"
   ]
  },
  {
   "cell_type": "code",
   "execution_count": 87,
   "id": "33785d63",
   "metadata": {},
   "outputs": [
    {
     "data": {
      "text/plain": [
       "404"
      ]
     },
     "execution_count": 87,
     "metadata": {},
     "output_type": "execute_result"
    }
   ],
   "source": [
    "len(df.groupby(['Year', 'Month']))"
   ]
  }
 ],
 "metadata": {
  "kernelspec": {
   "display_name": "Python 3.8.10 64-bit",
   "language": "python",
   "name": "python3"
  },
  "language_info": {
   "codemirror_mode": {
    "name": "ipython",
    "version": 3
   },
   "file_extension": ".py",
   "mimetype": "text/x-python",
   "name": "python",
   "nbconvert_exporter": "python",
   "pygments_lexer": "ipython3",
   "version": "3.8.10"
  },
  "vscode": {
   "interpreter": {
    "hash": "916dbcbb3f70747c44a77c7bcd40155683ae19c65e1c03b4aa3499c5328201f1"
   }
  }
 },
 "nbformat": 4,
 "nbformat_minor": 5
}
