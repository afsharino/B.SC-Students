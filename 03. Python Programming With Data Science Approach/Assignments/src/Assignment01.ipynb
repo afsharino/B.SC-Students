{
 "cells": [
  {
   "cell_type": "markdown",
   "id": "785a8db5",
   "metadata": {},
   "source": [
    "<div class=\"alert alert-block alert-info\">\n",
    "    <h1 align=\"center\">Assigment 01</h1>\n",
    "    <h2 align=\"center\">Python programming</h2>\n",
    "    <h3 align=\"center\">Ferdowsi University of Mashhad</3>\n",
    "    <h4 align=\"center\"><a href=\"https://t.me/mohammadafshari01\">Mohammad Afshari</a></h4>\n",
    "    \n",
    "</div>"
   ]
  },
  {
   "cell_type": "markdown",
   "id": "e898c763",
   "metadata": {},
   "source": [
    "# 01"
   ]
  },
  {
   "cell_type": "code",
   "execution_count": null,
   "id": "90c39651",
   "metadata": {},
   "outputs": [],
   "source": [
    "# The loop goes a head until the user enter a valid parameter\n",
    "while True:\n",
    "    try:\n",
    "        n = int(input(\"Please enter a none-negative integer: \"))\n",
    "        \n",
    "        # Check if the input is none-negative or not.\n",
    "        if n >= 0:\n",
    "            for i in range(0,n):\n",
    "                print(i**2)\n",
    "            break\n",
    "            \n",
    "    except:\n",
    "        print(\"warning Please enter a valid number!!!\")\n"
   ]
  },
  {
   "cell_type": "markdown",
   "id": "d157dccf",
   "metadata": {},
   "source": [
    "# 02"
   ]
  },
  {
   "cell_type": "code",
   "execution_count": null,
   "id": "8768fc2c",
   "metadata": {},
   "outputs": [],
   "source": [
    "# The loop goes a head until the user enter a valid parameter\n",
    "while True:\n",
    "    try:\n",
    "        n = int(input(\"Please enter a none-negative integer: \"))\n",
    "        \n",
    "        # n is odd.\n",
    "        if n % 2 != 0:\n",
    "            print(\"Weird\")\n",
    "            \n",
    "        #n is even\n",
    "        else:\n",
    "            if n in range(2,6):\n",
    "                print(\"not Weird\")\n",
    "            elif n in range(6,21):\n",
    "                print(\"Weird\")\n",
    "            else:\n",
    "                print(\"not Weird\")\n",
    "        break\n",
    "        \n",
    "    except:\n",
    "        print(\"warning Please enter a valid number!!!\")\n"
   ]
  },
  {
   "cell_type": "markdown",
   "id": "cbde57c1",
   "metadata": {},
   "source": [
    "# 03"
   ]
  },
  {
   "cell_type": "code",
   "execution_count": null,
   "id": "6c0406af",
   "metadata": {},
   "outputs": [],
   "source": [
    "# Function to check that is a year leap or not\n",
    "def is_leap(year):\n",
    "    if year%4 == 0 and year%100 != 0 or year%400 == 0 :\n",
    "        return True\n",
    "    else:\n",
    "        return False\n",
    "\n",
    "# The loop goes a head until the user enter a valid parameter\n",
    "while True:\n",
    "    try:\n",
    "        user_input = int(input(\"Please enter year:\"))\n",
    "        print(is_leap(user_input))\n",
    "        break\n",
    "        \n",
    "    except:\n",
    "        print(\"warning Please enter a valid number!!!\")"
   ]
  },
  {
   "cell_type": "markdown",
   "id": "d70778ce",
   "metadata": {},
   "source": [
    "# 04"
   ]
  },
  {
   "cell_type": "code",
   "execution_count": null,
   "id": "63c0bba4",
   "metadata": {},
   "outputs": [],
   "source": [
    "def string_times(string, n):\n",
    "    return n*string\n",
    "# Get a string from the user\n",
    "string = input(\"Please enter an string: \")\n",
    "\n",
    "# The loop goes a head until the user enter a valid parameter\n",
    "while True:\n",
    "    try:\n",
    "        n = int(input(\"please enter n: \"))\n",
    "        break\n",
    "        \n",
    "    except:\n",
    "        print(\"warning Please enter a valid number!!!\")\n",
    "\n",
    "print(string_times(string, n))"
   ]
  },
  {
   "cell_type": "markdown",
   "id": "a12f633f",
   "metadata": {},
   "source": [
    "# 05"
   ]
  },
  {
   "cell_type": "code",
   "execution_count": null,
   "id": "f44e1eab",
   "metadata": {},
   "outputs": [],
   "source": [
    "def string_splosion(string):\n",
    "    result = \"\" \n",
    "    # The loop is iterataing over the given string and each time \n",
    "    # add the contents of index 0 to current index(char) to the result\n",
    "    for char in range(len(string)+1):\n",
    "        result += string[0:char]\n",
    "    return result\n",
    "\n",
    "# The loop goes a head until the user enter a valid parameter.\n",
    "while True:\n",
    "    user_input = input(\"Please enter a non-empty string: \")\n",
    "    # Check that string is empty or not.\n",
    "    if len(user_input) > 0:\n",
    "        break\n",
    "    else:\n",
    "        print(\"Enter a non-empty string buddy!!!\")\n",
    "\n",
    "print(string_splosion(user_input))"
   ]
  },
  {
   "cell_type": "markdown",
   "id": "7ae8e5f3",
   "metadata": {},
   "source": [
    "# 06"
   ]
  },
  {
   "cell_type": "code",
   "execution_count": null,
   "id": "48be8185",
   "metadata": {},
   "outputs": [],
   "source": [
    "def is_9_one_of_the_first_4_elements(array):\n",
    "    # Length of the list is less than 4\n",
    "    if len(array) < 4:\n",
    "        if 9 in array:\n",
    "            return True\n",
    "    # Length of the list is greater-equal than 4\n",
    "    else:\n",
    "        for index in range(0,4):\n",
    "            if array[index] == 9:\n",
    "                return True\n",
    "    return False\n",
    "\n",
    "user_input = input(\"Please enter an array: \")\n",
    "\n",
    "# convert user enterd array to int\n",
    "user_input = user_input.strip(\"[]\").split(',')\n",
    "user_input = [int(number) for number in user_input]\n",
    "\n",
    "#call function\n",
    "result = is_9_one_of_the_first_4_elements(user_input)     \n",
    "print(result)"
   ]
  },
  {
   "cell_type": "markdown",
   "id": "701a56b4",
   "metadata": {},
   "source": [
    "<h1 align=\"center\">The End :)</h1>"
   ]
  }
 ],
 "metadata": {
  "kernelspec": {
   "display_name": "Python 3.9.12 ('snap')",
   "language": "python",
   "name": "python3"
  },
  "language_info": {
   "codemirror_mode": {
    "name": "ipython",
    "version": 3
   },
   "file_extension": ".py",
   "mimetype": "text/x-python",
   "name": "python",
   "nbconvert_exporter": "python",
   "pygments_lexer": "ipython3",
   "version": "3.9.12"
  },
  "vscode": {
   "interpreter": {
    "hash": "d116446e4acc8c5860ba2059b6fcc100b90d6dc9aea52c8adf3c4c05ed162c79"
   }
  }
 },
 "nbformat": 4,
 "nbformat_minor": 5
}
