{
 "cells": [
  {
   "cell_type": "markdown",
   "id": "6e4e6f49",
   "metadata": {},
   "source": [
    "<div class=\"alert alert-block alert-info\">\n",
    "    <h1 align=\"center\">Assigment 02</h1>\n",
    "    <h2 align=\"center\">Python programming</h2>\n",
    "    <h3 align=\"center\">Ferdowsi University of Mashhad</3>\n",
    "    <h4 align=\"center\"><a href=\"https://t.me/mohammadafshari01\">Mohammad Afshari</a></h4>\n",
    "    \n",
    "</div>"
   ]
  },
  {
   "cell_type": "markdown",
   "id": "9f3f34f2",
   "metadata": {},
   "source": [
    "***"
   ]
  },
  {
   "cell_type": "markdown",
   "id": "ae922382",
   "metadata": {},
   "source": [
    "<div class=\"alert alert-block alert-success\">\n",
    "    <h1 align=\"center\">Part 1</h1><br\\>\n",
    "</div>"
   ]
  },
  {
   "cell_type": "markdown",
   "id": "c0c94190",
   "metadata": {},
   "source": [
    "## <span style='color:green'> 01 </span>\n"
   ]
  },
  {
   "cell_type": "code",
   "execution_count": 18,
   "id": "dc5babfb",
   "metadata": {},
   "outputs": [
    {
     "name": "stdout",
     "output_type": "stream",
     "text": [
      "17\n"
     ]
    }
   ],
   "source": [
    "# Generate a random number x ∈ {1,2,..., 100}. (both included)\n",
    "import random\n",
    "x = random.randint(1,100)\n",
    "print(x)"
   ]
  },
  {
   "cell_type": "markdown",
   "id": "8772417b",
   "metadata": {},
   "source": [
    "## <span style='color:green'> 02 </span>"
   ]
  },
  {
   "cell_type": "code",
   "execution_count": 19,
   "id": "4d170ebb",
   "metadata": {},
   "outputs": [],
   "source": [
    "# Use for and range to iterate over numbers smaller than x.\n",
    "for number in range(1, x):\n",
    "    pass"
   ]
  },
  {
   "cell_type": "markdown",
   "id": "8556cbcd",
   "metadata": {},
   "source": [
    "## <span style='color:green'> 03 </span>"
   ]
  },
  {
   "cell_type": "code",
   "execution_count": 20,
   "id": "6932f702",
   "metadata": {},
   "outputs": [
    {
     "name": "stdout",
     "output_type": "stream",
     "text": [
      "2\n",
      "4\n",
      "6\n",
      "8\n",
      "10\n",
      "12\n",
      "14\n",
      "16\n"
     ]
    }
   ],
   "source": [
    "# Use if and the remainder operator (%) to print all even numbers below x.\n",
    "for number in range(1, x):\n",
    "    if number % 2 == 0:\n",
    "        print(number)"
   ]
  },
  {
   "cell_type": "markdown",
   "id": "a55cd5a2",
   "metadata": {},
   "source": [
    "## <span style='color:green'> 04 </span>"
   ]
  },
  {
   "cell_type": "code",
   "execution_count": 21,
   "id": "630e8099",
   "metadata": {},
   "outputs": [
    {
     "name": "stdout",
     "output_type": "stream",
     "text": [
      "mohammad\n",
      "Plz enter a valid integer number!!!!\n",
      "2.5\n",
      "Plz enter a valid integer number!!!!\n",
      "100\n"
     ]
    }
   ],
   "source": [
    "# Use the input command to get input max_x.\n",
    "while True:\n",
    "    try:\n",
    "        max_x = int(input())\n",
    "        break\n",
    "    except:\n",
    "        print(\"Plz enter a valid integer number!!!!\")"
   ]
  },
  {
   "cell_type": "markdown",
   "id": "81319646",
   "metadata": {},
   "source": [
    "## <span style='color:green'> 05 </span>"
   ]
  },
  {
   "cell_type": "code",
   "execution_count": 22,
   "id": "84ca0755",
   "metadata": {},
   "outputs": [
    {
     "name": "stdout",
     "output_type": "stream",
     "text": [
      "36\n"
     ]
    }
   ],
   "source": [
    "# Do the first step to generate a random number x ∈ {1,2,..., max_x}.\n",
    "x = random.randint(1, max_x)\n",
    "print(x)"
   ]
  },
  {
   "cell_type": "markdown",
   "id": "5b55c18b",
   "metadata": {},
   "source": [
    "## <span style='color:green'> 06 </span>"
   ]
  },
  {
   "cell_type": "code",
   "execution_count": 23,
   "id": "ee7c0998",
   "metadata": {},
   "outputs": [
    {
     "name": "stdout",
     "output_type": "stream",
     "text": [
      "changiz\n",
      "Pleaze enter a valid integer number\n",
      "6.3\n",
      "Pleaze enter a valid integer number\n",
      "8\n",
      "the random number is 8.\n",
      "Pleaze enter a bigger max_x to increase the chance of generating 10 even numbers!\n",
      "5\n",
      "the random number is 1.\n",
      "Pleaze enter a bigger max_x to increase the chance of generating 10 even numbers!\n",
      "100\n",
      "the random number is 61.\n",
      "Done :)\n",
      "[2, 4, 6, 8, 10, 12, 14, 16, 18, 20]\n"
     ]
    }
   ],
   "source": [
    "# Repeat steps until you generate 10 even numbers.\n",
    "while True:\n",
    "    # step 04\n",
    "    while True:\n",
    "        try:\n",
    "            max_x = int(input())\n",
    "            break\n",
    "        except:\n",
    "            print(\"Pleaze enter a valid integer number\")\n",
    "            \n",
    "    # step 05   \n",
    "    x = random.randint(1, max_x)\n",
    "    print(f\"the random number is {x}.\")\n",
    "    # a list to store even numbers\n",
    "    list_of_even_numbers = [] \n",
    "    \n",
    "    #step 02\n",
    "    for number in range(1, x):\n",
    "        # check if 10 even numbers is generated?\n",
    "        # if yes: break from inner loop\n",
    "        # if no: continue to generate more even numbers\n",
    "        if len(list_of_even_numbers) == 10:\n",
    "            print(\"Done :)\")\n",
    "            print(list_of_even_numbers)\n",
    "            break\n",
    "            \n",
    "        # continue to generate more even numbers\n",
    "        else:\n",
    "            # step 03\n",
    "            if number % 2 == 0:\n",
    "                list_of_even_numbers.append(number)\n",
    "      \n",
    "    # check if 10 even numbers is generated?\n",
    "    # if yes: break from outer loop\n",
    "    # if no: continue to get from the user another max_x\n",
    "    if len(list_of_even_numbers) == 10:\n",
    "        break\n",
    "    else:\n",
    "        print(\"Pleaze enter a bigger max_x to increase the chance of generating 10 even numbers!\")"
   ]
  },
  {
   "cell_type": "markdown",
   "id": "f54ac620",
   "metadata": {},
   "source": [
    "## <span style='color:green'> 07 </span>"
   ]
  },
  {
   "cell_type": "code",
   "execution_count": 24,
   "id": "58097730",
   "metadata": {},
   "outputs": [
    {
     "name": "stdout",
     "output_type": "stream",
     "text": [
      "The sum of generated numbers is 110.\n"
     ]
    }
   ],
   "source": [
    "# Report the sum of generated numbers.\n",
    "sum_of_numbers = 0\n",
    "for number in list_of_even_numbers:\n",
    "    sum_of_numbers += number\n",
    "print(f\"The sum of generated numbers is {sum_of_numbers}.\")"
   ]
  },
  {
   "cell_type": "markdown",
   "id": "dee9f907",
   "metadata": {},
   "source": [
    "\n",
    "***"
   ]
  },
  {
   "cell_type": "markdown",
   "id": "5eecf2c8",
   "metadata": {},
   "source": [
    "<div class=\"alert alert-block alert-danger\">\n",
    "    <h1 align=\"center\">Part 2</h1><br\\>\n",
    "</div>"
   ]
  },
  {
   "cell_type": "markdown",
   "id": "c010bb0e",
   "metadata": {},
   "source": [
    "## <span style='color:firebrick'> 01 </span>"
   ]
  },
  {
   "cell_type": "code",
   "execution_count": 25,
   "id": "86ae40c4",
   "metadata": {},
   "outputs": [
    {
     "name": "stdout",
     "output_type": "stream",
     "text": [
      "Salary is changed to 300.\n",
      "\n",
      "\n",
      "Primary dictionary after change:\n",
      " {'cus1': {'name': 'ali', 'occupation': 'baker', 'salary': 7500}, 'cus2': {'name': 'reza', 'occupation': 'teacher', 'salary': 9000}, 'cus3': {'name': 'sara', 'occupation': 'farmer', 'salary': 300}}\n"
     ]
    }
   ],
   "source": [
    "sample_dict = {\n",
    "    \"cus1\": {\n",
    "        \"name\": \"ali\",\n",
    "        \"occupation\": \"baker\",\n",
    "        \"salary\": 7500\n",
    "    },\n",
    "    \"cus2\": {\n",
    "        \"name\": \"reza\",\n",
    "        \"occupation\": \"teacher\",\n",
    "        \"salary\": 9000\n",
    "    },\n",
    "    \"cus3\": {\n",
    "        \"name\": \"sara\",\n",
    "        \"occupation\": \"farmer\",\n",
    "        \"salary\": 500\n",
    "    },\n",
    "}\n",
    "\n",
    "\n",
    "for i in sample_dict:\n",
    "   \n",
    "    if sample_dict[i][\"name\"]==\"sara\":        \n",
    "        sample_dict[i].update({\"salary\": 300})\n",
    "        print(f\"Salary is changed to {sample_dict[i].get('salary')}.\")\n",
    "        print(\"\\n\")\n",
    "        print(f\"Primary dictionary after change:\\n {sample_dict}\")\n"
   ]
  },
  {
   "cell_type": "markdown",
   "id": "e7d5460f",
   "metadata": {},
   "source": [
    "## <span style='color:firebrick'> 02 </span>"
   ]
  },
  {
   "cell_type": "code",
   "execution_count": 26,
   "id": "084b4e9a",
   "metadata": {},
   "outputs": [
    {
     "name": "stdout",
     "output_type": "stream",
     "text": [
      "Give me a dictionary to reverse it: { \"𝑘𝑒𝑦1\" : \"𝑣𝑎𝑙𝑢𝑒1\", \"𝑘𝑒𝑦2\" : \"𝑣𝑎𝑙𝑢𝑒2\", \"𝑘𝑒𝑦3\" : \"𝑣𝑎𝑙𝑢𝑒1\" }\n",
      "{'𝑣𝑎𝑙𝑢𝑒1': ['𝑘𝑒𝑦1', '𝑘𝑒𝑦3'], '𝑣𝑎𝑙𝑢𝑒2': ['𝑘𝑒𝑦2']}\n"
     ]
    }
   ],
   "source": [
    "import json\n",
    "\n",
    "def reverse_dictionary(input_dictionary):\n",
    "    reverse_dictionary = {}\n",
    "    \n",
    "    for i in input_dictionary:\n",
    "        #check if the asked key (input_dictionary[i]) has value or its None?\n",
    "        # if yes: append another value to this key\n",
    "        #if no: assign an empty list to it as a value\n",
    "        if reverse_dictionary.get(input_dictionary[i]) == None:\n",
    "            reverse_dictionary[input_dictionary[i]] = []\n",
    "            \n",
    "        reverse_dictionary[input_dictionary[i]].append(i)\n",
    "    \n",
    "    return reverse_dictionary\n",
    "\n",
    "\n",
    "input_dictionary = input(\"Give me a dictionary to reverse it: \")\n",
    "# convert string to dictionary\n",
    "input_dictionary = json.loads(input_dictionary)\n",
    "\n",
    "\n",
    "print(reverse_dictionary(input_dictionary))"
   ]
  },
  {
   "cell_type": "markdown",
   "id": "cb43e3cd",
   "metadata": {},
   "source": [
    "## <span style='color:firebrick'> 03 </span>"
   ]
  },
  {
   "cell_type": "code",
   "execution_count": 27,
   "id": "0e9f2e5f",
   "metadata": {},
   "outputs": [
    {
     "name": "stdout",
     "output_type": "stream",
     "text": [
      "Hello, World!\n",
      "Dictionary: {'H': 'H', 'e': 'e', 'l': 'l', 'o': 'o', ',': ',', ' ': ' ', 'W': 'W', 'r': 'r', 'd': 'd', '!': '!'}\n",
      "Number of uniqe chars: 10.\n"
     ]
    }
   ],
   "source": [
    "def find_number_of_unique_characters(input_string):\n",
    "    # a dictionary to store  uniqe chars\n",
    "    unique_characters_dictionary = {}\n",
    "    \n",
    "    for i in input_string:\n",
    "        unique_characters_dictionary[i] = i\n",
    "        \n",
    "    print(f\"Dictionary: {unique_characters_dictionary}\")\n",
    "    print(f\"Number of uniqe chars: {len(unique_characters_dictionary.keys())}.\")\n",
    "        \n",
    "input_string = input()\n",
    "\n",
    "find_number_of_unique_characters(input_string)\n"
   ]
  },
  {
   "cell_type": "markdown",
   "id": "06853dd3",
   "metadata": {},
   "source": [
    "## <span style='color:firebrick'> 04 </span>"
   ]
  },
  {
   "cell_type": "code",
   "execution_count": 28,
   "id": "9b012fb6",
   "metadata": {},
   "outputs": [
    {
     "name": "stdout",
     "output_type": "stream",
     "text": [
      "Enter a string: Python is easy\n",
      "{'Python': 'nohtyP', 'is': 'si', 'easy': 'ysae'}\n"
     ]
    }
   ],
   "source": [
    "def reverse_string(string):\n",
    "    return string[::-1]\n",
    "\n",
    "\n",
    "input_string = input(\"Enter a string: \").split(\" \")\n",
    "mainDict = {}\n",
    "\n",
    "for i in input_string:\n",
    "    mainDict[i] = reverse_string(i)\n",
    "\n",
    "print(mainDict)\n"
   ]
  },
  {
   "cell_type": "markdown",
   "id": "1c0ac15f",
   "metadata": {},
   "source": [
    "## <span style='color:firebrick'> 05 </span>"
   ]
  },
  {
   "cell_type": "code",
   "execution_count": 29,
   "id": "b183a6f2",
   "metadata": {},
   "outputs": [
    {
     "name": "stdout",
     "output_type": "stream",
     "text": [
      "{'𝑎1': [3, 17, 21, 22], '𝑎2': [8, 11, 13, 15], '𝑎3': [2, 7, 11, 13], '𝑎4': [7, 9, 14, 22]}\n"
     ]
    }
   ],
   "source": [
    "def sort_dictionary_values(d):\n",
    "    for i in d:\n",
    "        i = d[i].sort()\n",
    "\n",
    "    return d\n",
    "\n",
    "\n",
    "d = {'𝑎1': [21, 17, 22, 3], '𝑎2': [11, 15, 8, 13], '𝑎3': [7, 13, 2, 11], '𝑎4': [22, 14, 7, 9]}\n",
    "print(sort_dictionary_values(d))\n"
   ]
  },
  {
   "cell_type": "markdown",
   "id": "f904410b",
   "metadata": {},
   "source": [
    "## <span style='color:firebrick'> 06 </span>"
   ]
  },
  {
   "cell_type": "code",
   "execution_count": 30,
   "id": "911bf790",
   "metadata": {},
   "outputs": [
    {
     "name": "stdout",
     "output_type": "stream",
     "text": [
      "Enter number 1: gholam\n",
      "Please enter valid integer!!!\n",
      "Enter number 1: 2\n",
      "Enter number 2: 7\n",
      "Enter number 3: 14\n",
      "Enter number 4: 9\n",
      "Enter number 5: 11\n",
      "Enter number 6: 5\n",
      "Enter number 7: 3\n",
      "Enter number 8: 4\n",
      "Enter number 9: 6\n",
      "Enter number 10: 50\n",
      "{2: [1, 2], 7: [1, 7], 14: [1, 2, 7, 14], 9: [1, 3, 9], 11: [1, 11], 5: [1, 5], 3: [1, 3], 4: [1, 2, 4], 6: [1, 2, 3, 6], 50: [1, 2, 5, 10, 25, 50]}\n"
     ]
    }
   ],
   "source": [
    "def get_lists_of_divisors(number):\n",
    "    # a list to store divisors\n",
    "    result = []\n",
    "    for i in range(1, number+1):\n",
    "        if number % i == 0:\n",
    "            result.append(i)\n",
    "    return result\n",
    "\n",
    "\n",
    "main_dictionary = {}\n",
    "counter = 0\n",
    "\n",
    "while True:\n",
    "    try:\n",
    "        # counte == 10 means that the user entered 10 number\n",
    "        if counter == 10:\n",
    "            break\n",
    "        # user still want to enter more numbers\n",
    "        else:\n",
    "            input_number = int(input(f\"Enter number {counter+1}: \"))\n",
    "            main_dictionary[input_number] = get_lists_of_divisors(input_number)\n",
    "            counter +=1\n",
    "    except:\n",
    "        print(\"Please enter valid integer!!!\")\n",
    "\n",
    "print(main_dictionary)\n"
   ]
  },
  {
   "cell_type": "markdown",
   "id": "727a9a22",
   "metadata": {},
   "source": [
    "***\n",
    "<h1 align=\"center\">The End :)</h1>"
   ]
  }
 ],
 "metadata": {
  "kernelspec": {
   "display_name": "Python 3.8.10 64-bit",
   "language": "python",
   "name": "python3"
  },
  "language_info": {
   "codemirror_mode": {
    "name": "ipython",
    "version": 3
   },
   "file_extension": ".py",
   "mimetype": "text/x-python",
   "name": "python",
   "nbconvert_exporter": "python",
   "pygments_lexer": "ipython3",
   "version": "3.8.10"
  },
  "vscode": {
   "interpreter": {
    "hash": "916dbcbb3f70747c44a77c7bcd40155683ae19c65e1c03b4aa3499c5328201f1"
   }
  }
 },
 "nbformat": 4,
 "nbformat_minor": 5
}
