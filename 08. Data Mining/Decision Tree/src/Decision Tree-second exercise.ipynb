{
 "cells": [
  {
   "cell_type": "markdown",
   "id": "609bb111",
   "metadata": {},
   "source": [
    "<div class=\"alert alert-block alert-info\">\n",
    "    <h2 align=\"center\">Decision Tree</h2>\n",
    "    <h4 align=\"center\"><a href=\"https://t.me/afsharino\">Mohammad Afshari</a></h4>\n",
    "</div>"
   ]
  },
  {
   "cell_type": "markdown",
   "id": "79f7cbfe",
   "metadata": {},
   "source": [
    "<style>\n",
    ".aligncenter {\n",
    "    text-align: center;\n",
    "}\n",
    "</style>\n",
    "<p class=\"aligncenter\">'\n",
    "    <img src = \"https://www.researchgate.net/publication/221156067/figure/fig3/AS:393937173925895@1470933349578/The-induced-play-golf-decision-tree-result-of-training-with-all-data.png\"  width=70%>\n",
    "</p>"
   ]
  },
  {
   "cell_type": "markdown",
   "id": "ee2b1a6c",
   "metadata": {},
   "source": [
    "# Import Libraries"
   ]
  },
  {
   "cell_type": "code",
   "execution_count": 1,
   "id": "113f4392",
   "metadata": {},
   "outputs": [],
   "source": [
    "# Scientific\n",
    "import numpy as np\n",
    "import pandas as pd\n",
    "\n",
    "# Visualization\n",
    "import matplotlib.pyplot as plt\n",
    "\n",
    "# Machine Learning\n",
    "from sklearn.tree import DecisionTreeClassifier\n",
    "from sklearn.preprocessing import LabelEncoder\n",
    "from sklearn.metrics import accuracy_score\n",
    "from sklearn.tree import plot_tree\n",
    "\n",
    "# Others\n",
    "import warnings\n",
    "warnings.filterwarnings(\"ignore\")"
   ]
  },
  {
   "cell_type": "markdown",
   "id": "1b66c8e4",
   "metadata": {},
   "source": [
    "# Load Dataset"
   ]
  },
  {
   "cell_type": "code",
   "execution_count": 2,
   "id": "ef294c10",
   "metadata": {},
   "outputs": [],
   "source": [
    "data = pd.read_csv('../dataset/playgolf.csv', index_col=False)"
   ]
  },
  {
   "cell_type": "markdown",
   "id": "9ceb8a92",
   "metadata": {},
   "source": [
    "# Inspect the Data"
   ]
  },
  {
   "cell_type": "code",
   "execution_count": 3,
   "id": "e51acfa3",
   "metadata": {},
   "outputs": [
    {
     "name": "stdout",
     "output_type": "stream",
     "text": [
      "<class 'pandas.core.frame.DataFrame'>\n",
      "RangeIndex: 14 entries, 0 to 13\n",
      "Data columns (total 5 columns):\n",
      " #   Column     Non-Null Count  Dtype \n",
      "---  ------     --------------  ----- \n",
      " 0   Outlook    14 non-null     object\n",
      " 1   Temp       14 non-null     object\n",
      " 2   Humidity   14 non-null     object\n",
      " 3   Windy      14 non-null     bool  \n",
      " 4   Play Golf  14 non-null     object\n",
      "dtypes: bool(1), object(4)\n",
      "memory usage: 594.0+ bytes\n"
     ]
    }
   ],
   "source": [
    "data.info()"
   ]
  },
  {
   "cell_type": "code",
   "execution_count": 4,
   "id": "2ddfb4e7",
   "metadata": {},
   "outputs": [
    {
     "data": {
      "text/html": [
       "<div>\n",
       "<style scoped>\n",
       "    .dataframe tbody tr th:only-of-type {\n",
       "        vertical-align: middle;\n",
       "    }\n",
       "\n",
       "    .dataframe tbody tr th {\n",
       "        vertical-align: top;\n",
       "    }\n",
       "\n",
       "    .dataframe thead th {\n",
       "        text-align: right;\n",
       "    }\n",
       "</style>\n",
       "<table border=\"1\" class=\"dataframe\">\n",
       "  <thead>\n",
       "    <tr style=\"text-align: right;\">\n",
       "      <th></th>\n",
       "      <th>Outlook</th>\n",
       "      <th>Temp</th>\n",
       "      <th>Humidity</th>\n",
       "      <th>Windy</th>\n",
       "      <th>Play Golf</th>\n",
       "    </tr>\n",
       "  </thead>\n",
       "  <tbody>\n",
       "    <tr>\n",
       "      <th>0</th>\n",
       "      <td>Rainy</td>\n",
       "      <td>Hot</td>\n",
       "      <td>High</td>\n",
       "      <td>False</td>\n",
       "      <td>No</td>\n",
       "    </tr>\n",
       "    <tr>\n",
       "      <th>1</th>\n",
       "      <td>Rainy</td>\n",
       "      <td>Hot</td>\n",
       "      <td>High</td>\n",
       "      <td>True</td>\n",
       "      <td>No</td>\n",
       "    </tr>\n",
       "    <tr>\n",
       "      <th>2</th>\n",
       "      <td>Overcast</td>\n",
       "      <td>Hot</td>\n",
       "      <td>High</td>\n",
       "      <td>False</td>\n",
       "      <td>Yes</td>\n",
       "    </tr>\n",
       "    <tr>\n",
       "      <th>3</th>\n",
       "      <td>Sunny</td>\n",
       "      <td>Mild</td>\n",
       "      <td>High</td>\n",
       "      <td>False</td>\n",
       "      <td>Yes</td>\n",
       "    </tr>\n",
       "    <tr>\n",
       "      <th>4</th>\n",
       "      <td>Sunny</td>\n",
       "      <td>Cool</td>\n",
       "      <td>Normal</td>\n",
       "      <td>False</td>\n",
       "      <td>Yes</td>\n",
       "    </tr>\n",
       "    <tr>\n",
       "      <th>5</th>\n",
       "      <td>Sunny</td>\n",
       "      <td>Cool</td>\n",
       "      <td>Normal</td>\n",
       "      <td>True</td>\n",
       "      <td>No</td>\n",
       "    </tr>\n",
       "    <tr>\n",
       "      <th>6</th>\n",
       "      <td>Overcast</td>\n",
       "      <td>Cool</td>\n",
       "      <td>Normal</td>\n",
       "      <td>True</td>\n",
       "      <td>Yes</td>\n",
       "    </tr>\n",
       "    <tr>\n",
       "      <th>7</th>\n",
       "      <td>Rainy</td>\n",
       "      <td>Mild</td>\n",
       "      <td>High</td>\n",
       "      <td>False</td>\n",
       "      <td>No</td>\n",
       "    </tr>\n",
       "    <tr>\n",
       "      <th>8</th>\n",
       "      <td>Rainy</td>\n",
       "      <td>Cool</td>\n",
       "      <td>Normal</td>\n",
       "      <td>False</td>\n",
       "      <td>Yes</td>\n",
       "    </tr>\n",
       "    <tr>\n",
       "      <th>9</th>\n",
       "      <td>Sunny</td>\n",
       "      <td>Mild</td>\n",
       "      <td>Normal</td>\n",
       "      <td>False</td>\n",
       "      <td>Yes</td>\n",
       "    </tr>\n",
       "    <tr>\n",
       "      <th>10</th>\n",
       "      <td>Rainy</td>\n",
       "      <td>Mild</td>\n",
       "      <td>Normal</td>\n",
       "      <td>True</td>\n",
       "      <td>Yes</td>\n",
       "    </tr>\n",
       "    <tr>\n",
       "      <th>11</th>\n",
       "      <td>Overcast</td>\n",
       "      <td>Mild</td>\n",
       "      <td>High</td>\n",
       "      <td>True</td>\n",
       "      <td>Yes</td>\n",
       "    </tr>\n",
       "    <tr>\n",
       "      <th>12</th>\n",
       "      <td>Overcast</td>\n",
       "      <td>Hot</td>\n",
       "      <td>Normal</td>\n",
       "      <td>False</td>\n",
       "      <td>Yes</td>\n",
       "    </tr>\n",
       "    <tr>\n",
       "      <th>13</th>\n",
       "      <td>Sunny</td>\n",
       "      <td>Mild</td>\n",
       "      <td>High</td>\n",
       "      <td>True</td>\n",
       "      <td>No</td>\n",
       "    </tr>\n",
       "  </tbody>\n",
       "</table>\n",
       "</div>"
      ],
      "text/plain": [
       "     Outlook  Temp Humidity  Windy Play Golf\n",
       "0      Rainy   Hot     High  False        No\n",
       "1      Rainy   Hot     High   True        No\n",
       "2   Overcast   Hot     High  False       Yes\n",
       "3      Sunny  Mild     High  False       Yes\n",
       "4      Sunny  Cool   Normal  False       Yes\n",
       "5      Sunny  Cool   Normal   True        No\n",
       "6   Overcast  Cool   Normal   True       Yes\n",
       "7      Rainy  Mild     High  False        No\n",
       "8      Rainy  Cool   Normal  False       Yes\n",
       "9      Sunny  Mild   Normal  False       Yes\n",
       "10     Rainy  Mild   Normal   True       Yes\n",
       "11  Overcast  Mild     High   True       Yes\n",
       "12  Overcast   Hot   Normal  False       Yes\n",
       "13     Sunny  Mild     High   True        No"
      ]
     },
     "execution_count": 4,
     "metadata": {},
     "output_type": "execute_result"
    }
   ],
   "source": [
    "data.head(14)"
   ]
  },
  {
   "cell_type": "markdown",
   "id": "5336dd65",
   "metadata": {},
   "source": [
    "# Entropy"
   ]
  },
  {
   "cell_type": "markdown",
   "id": "cbe0bc3e",
   "metadata": {},
   "source": [
    "$$ E(S) = \\Sigma_{i=1}^{n}-p_{i}.log_{2}p_{i} $$"
   ]
  },
  {
   "cell_type": "code",
   "execution_count": 8,
   "id": "d6829c85",
   "metadata": {},
   "outputs": [],
   "source": [
    "S = data['Play Golf']"
   ]
  },
  {
   "cell_type": "code",
   "execution_count": 49,
   "id": "95e4684f",
   "metadata": {},
   "outputs": [],
   "source": [
    "def entropy(S):\n",
    "    p1 = sum(S==\"Yes\")/len(S)\n",
    "    p2 = sum(S==\"No\")/len(S)\n",
    "    E = -p1*np.log2(p1) - p2*np.log2(p2)\n",
    "    return E"
   ]
  },
  {
   "cell_type": "code",
   "execution_count": 50,
   "id": "c34eb67b",
   "metadata": {},
   "outputs": [
    {
     "name": "stdout",
     "output_type": "stream",
     "text": [
      "The entropy of root is 94.03\n"
     ]
    }
   ],
   "source": [
    "entropy_root = entropy(S)\n",
    "print(f'The entropy of root is {entropy_root*100:0.2f}')"
   ]
  },
  {
   "cell_type": "markdown",
   "id": "a8f0ecc5",
   "metadata": {},
   "source": [
    "#### Let's try splitting on \"Temp\" attribute"
   ]
  },
  {
   "cell_type": "code",
   "execution_count": 51,
   "id": "c11c6108",
   "metadata": {},
   "outputs": [
    {
     "name": "stdout",
     "output_type": "stream",
     "text": [
      "0      No\n",
      "1      No\n",
      "2     Yes\n",
      "12    Yes\n",
      "Name: Play Golf, dtype: object\n",
      "\n",
      "The entropy of temp=hot is 100.00\n"
     ]
    }
   ],
   "source": [
    "hot = data[data['Temp']=='Hot']['Play Golf']\n",
    "print(hot)\n",
    "entropy_hot = entropy(hot)\n",
    "print(f'\\nThe entropy of temp=hot is {entropy_hot*100:0.2f}')\n"
   ]
  },
  {
   "cell_type": "code",
   "execution_count": 54,
   "id": "02835646",
   "metadata": {},
   "outputs": [
    {
     "name": "stdout",
     "output_type": "stream",
     "text": [
      "3     Yes\n",
      "7      No\n",
      "9     Yes\n",
      "10    Yes\n",
      "11    Yes\n",
      "13     No\n",
      "Name: Play Golf, dtype: object\n",
      "\n",
      "The entropy of temp=mild is 91.83\n"
     ]
    }
   ],
   "source": [
    "mild = data[data['Temp']=='Mild']['Play Golf']\n",
    "print(mild)\n",
    "entropy_mild = entropy(mild)\n",
    "print(f'\\nThe entropy of temp=mild is {entropy_mild*100:0.2f}')"
   ]
  },
  {
   "cell_type": "code",
   "execution_count": 55,
   "id": "f04c49a3",
   "metadata": {},
   "outputs": [
    {
     "name": "stdout",
     "output_type": "stream",
     "text": [
      "4    Yes\n",
      "5     No\n",
      "6    Yes\n",
      "8    Yes\n",
      "Name: Play Golf, dtype: object\n",
      "\n",
      "The entropy of temp=cool is 81.13\n"
     ]
    }
   ],
   "source": [
    "cool = data[data['Temp']=='Cool']['Play Golf']\n",
    "print(cool)\n",
    "entropy_cool = entropy(cool)\n",
    "print(f'\\nThe entropy of temp=cool is {entropy_cool*100:0.2f}')"
   ]
  },
  {
   "cell_type": "markdown",
   "id": "d93c1814",
   "metadata": {},
   "source": [
    "# Average Entropy"
   ]
  },
  {
   "cell_type": "markdown",
   "id": "53ad06ab",
   "metadata": {},
   "source": [
    "$$ I(S, A) = \\Sigma_{i=1}\\frac{|S_{i}|}{|S|}.E(S_{i}) $$"
   ]
  },
  {
   "cell_type": "code",
   "execution_count": 56,
   "id": "3d6a94eb",
   "metadata": {},
   "outputs": [
    {
     "name": "stdout",
     "output_type": "stream",
     "text": [
      "The average entropy of attribute=Temp is 91.11\n"
     ]
    }
   ],
   "source": [
    "avg_entropy = (len(hot) / len(data['Temp'])*entropy_hot) +\\\n",
    "              (len(mild) / len(data['Temp'])*entropy_mild) +\\\n",
    "              (len(cool) / len(data['Temp'])*entropy_cool)\n",
    "print(f'The average entropy of attribute=Temp is {avg_entropy*100:0.2f}')"
   ]
  },
  {
   "cell_type": "markdown",
   "id": "778261a0",
   "metadata": {},
   "source": [
    "# Information Gain"
   ]
  },
  {
   "cell_type": "markdown",
   "id": "52b5f985",
   "metadata": {},
   "source": [
    "$$ Gain(S, A) = E(S) - I(S, A) = E(S) - \\Sigma_{i=1}\\frac{|S_{i}|}{|S|}.E(S_{i}) $$"
   ]
  },
  {
   "cell_type": "code",
   "execution_count": 57,
   "id": "c57f8de2",
   "metadata": {},
   "outputs": [
    {
     "name": "stdout",
     "output_type": "stream",
     "text": [
      "The information gain is 2.92\n"
     ]
    }
   ],
   "source": [
    "information_gain = entropy_root - avg_entropy\n",
    "print(f'The information gain is {information_gain*100:0.2f}')"
   ]
  }
 ],
 "metadata": {
  "kernelspec": {
   "display_name": "Python 3 (ipykernel)",
   "language": "python",
   "name": "python3"
  },
  "language_info": {
   "codemirror_mode": {
    "name": "ipython",
    "version": 3
   },
   "file_extension": ".py",
   "mimetype": "text/x-python",
   "name": "python",
   "nbconvert_exporter": "python",
   "pygments_lexer": "ipython3",
   "version": "3.11.4"
  }
 },
 "nbformat": 4,
 "nbformat_minor": 5
}
