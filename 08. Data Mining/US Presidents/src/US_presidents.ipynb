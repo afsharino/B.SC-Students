{
 "cells": [
  {
   "cell_type": "markdown",
   "id": "f1e3645f",
   "metadata": {},
   "source": [
    "<div class=\"alert alert-block alert-info\">\n",
    "    <h2 align=\"center\">US Presidents</h2>\n",
    "    <h4 align=\"center\"><a href=\"https://t.me/afsharino\">Mohammad Afshari</a></h4>\n",
    "</div>"
   ]
  },
  {
   "cell_type": "markdown",
   "id": "3bfa5fa4",
   "metadata": {},
   "source": [
    "<style>\n",
    ".aligncenter {\n",
    "    text-align: center;\n",
    "}\n",
    "</style>\n",
    "<p class=\"aligncenter\">\n",
    "    <img src = \"../images/us-prsidents.jpg\"  width=70%>\n",
    "</p>"
   ]
  },
  {
   "cell_type": "markdown",
   "id": "01d8b80c",
   "metadata": {},
   "source": [
    "# Import Libraries"
   ]
  },
  {
   "cell_type": "code",
   "execution_count": 1,
   "id": "bbabe1b2",
   "metadata": {},
   "outputs": [],
   "source": [
    "# Scientific\n",
    "import pandas as pd\n",
    "import numpy as np\n",
    "\n",
    "# Visualization\n",
    "import seaborn as sns\n",
    "import matplotlib.pyplot as plt"
   ]
  },
  {
   "cell_type": "markdown",
   "id": "87f094f3",
   "metadata": {},
   "source": [
    "# Load Dataset"
   ]
  },
  {
   "cell_type": "code",
   "execution_count": 2,
   "id": "441211d9",
   "metadata": {},
   "outputs": [],
   "source": [
    "data = pd.read_csv('../dataset/president_heights.csv', index_col=False)"
   ]
  },
  {
   "cell_type": "markdown",
   "id": "f6854970",
   "metadata": {},
   "source": [
    "# Inspect the Data"
   ]
  },
  {
   "cell_type": "code",
   "execution_count": 3,
   "id": "e05d9f0f",
   "metadata": {},
   "outputs": [
    {
     "data": {
      "text/html": [
       "<div>\n",
       "<style scoped>\n",
       "    .dataframe tbody tr th:only-of-type {\n",
       "        vertical-align: middle;\n",
       "    }\n",
       "\n",
       "    .dataframe tbody tr th {\n",
       "        vertical-align: top;\n",
       "    }\n",
       "\n",
       "    .dataframe thead th {\n",
       "        text-align: right;\n",
       "    }\n",
       "</style>\n",
       "<table border=\"1\" class=\"dataframe\">\n",
       "  <thead>\n",
       "    <tr style=\"text-align: right;\">\n",
       "      <th></th>\n",
       "      <th>order</th>\n",
       "      <th>name</th>\n",
       "      <th>height(cm)</th>\n",
       "    </tr>\n",
       "  </thead>\n",
       "  <tbody>\n",
       "    <tr>\n",
       "      <th>0</th>\n",
       "      <td>1</td>\n",
       "      <td>George Washington</td>\n",
       "      <td>189</td>\n",
       "    </tr>\n",
       "    <tr>\n",
       "      <th>1</th>\n",
       "      <td>2</td>\n",
       "      <td>John Adams</td>\n",
       "      <td>170</td>\n",
       "    </tr>\n",
       "    <tr>\n",
       "      <th>2</th>\n",
       "      <td>3</td>\n",
       "      <td>Thomas Jefferson</td>\n",
       "      <td>189</td>\n",
       "    </tr>\n",
       "    <tr>\n",
       "      <th>3</th>\n",
       "      <td>4</td>\n",
       "      <td>James Madison</td>\n",
       "      <td>163</td>\n",
       "    </tr>\n",
       "    <tr>\n",
       "      <th>4</th>\n",
       "      <td>5</td>\n",
       "      <td>James Monroe</td>\n",
       "      <td>183</td>\n",
       "    </tr>\n",
       "  </tbody>\n",
       "</table>\n",
       "</div>"
      ],
      "text/plain": [
       "   order               name  height(cm)\n",
       "0      1  George Washington         189\n",
       "1      2         John Adams         170\n",
       "2      3   Thomas Jefferson         189\n",
       "3      4      James Madison         163\n",
       "4      5       James Monroe         183"
      ]
     },
     "execution_count": 3,
     "metadata": {},
     "output_type": "execute_result"
    }
   ],
   "source": [
    "data.head()"
   ]
  },
  {
   "cell_type": "code",
   "execution_count": 4,
   "id": "ff4520c0",
   "metadata": {},
   "outputs": [
    {
     "name": "stdout",
     "output_type": "stream",
     "text": [
      "<class 'pandas.core.frame.DataFrame'>\n",
      "RangeIndex: 44 entries, 0 to 43\n",
      "Data columns (total 3 columns):\n",
      " #   Column      Non-Null Count  Dtype \n",
      "---  ------      --------------  ----- \n",
      " 0   order       44 non-null     int64 \n",
      " 1   name        44 non-null     object\n",
      " 2   height(cm)  44 non-null     int64 \n",
      "dtypes: int64(2), object(1)\n",
      "memory usage: 1.2+ KB\n"
     ]
    }
   ],
   "source": [
    "data.info()"
   ]
  },
  {
   "cell_type": "code",
   "execution_count": 5,
   "id": "241e4dfa",
   "metadata": {},
   "outputs": [
    {
     "data": {
      "text/html": [
       "<div>\n",
       "<style scoped>\n",
       "    .dataframe tbody tr th:only-of-type {\n",
       "        vertical-align: middle;\n",
       "    }\n",
       "\n",
       "    .dataframe tbody tr th {\n",
       "        vertical-align: top;\n",
       "    }\n",
       "\n",
       "    .dataframe thead th {\n",
       "        text-align: right;\n",
       "    }\n",
       "</style>\n",
       "<table border=\"1\" class=\"dataframe\">\n",
       "  <thead>\n",
       "    <tr style=\"text-align: right;\">\n",
       "      <th></th>\n",
       "      <th>order</th>\n",
       "      <th>height(cm)</th>\n",
       "    </tr>\n",
       "  </thead>\n",
       "  <tbody>\n",
       "    <tr>\n",
       "      <th>count</th>\n",
       "      <td>44.000000</td>\n",
       "      <td>44.000000</td>\n",
       "    </tr>\n",
       "    <tr>\n",
       "      <th>mean</th>\n",
       "      <td>23.522727</td>\n",
       "      <td>180.045455</td>\n",
       "    </tr>\n",
       "    <tr>\n",
       "      <th>std</th>\n",
       "      <td>13.729087</td>\n",
       "      <td>7.064337</td>\n",
       "    </tr>\n",
       "    <tr>\n",
       "      <th>min</th>\n",
       "      <td>1.000000</td>\n",
       "      <td>163.000000</td>\n",
       "    </tr>\n",
       "    <tr>\n",
       "      <th>25%</th>\n",
       "      <td>11.750000</td>\n",
       "      <td>174.750000</td>\n",
       "    </tr>\n",
       "    <tr>\n",
       "      <th>50%</th>\n",
       "      <td>24.000000</td>\n",
       "      <td>182.000000</td>\n",
       "    </tr>\n",
       "    <tr>\n",
       "      <th>75%</th>\n",
       "      <td>35.250000</td>\n",
       "      <td>183.500000</td>\n",
       "    </tr>\n",
       "    <tr>\n",
       "      <th>max</th>\n",
       "      <td>46.000000</td>\n",
       "      <td>193.000000</td>\n",
       "    </tr>\n",
       "  </tbody>\n",
       "</table>\n",
       "</div>"
      ],
      "text/plain": [
       "           order  height(cm)\n",
       "count  44.000000   44.000000\n",
       "mean   23.522727  180.045455\n",
       "std    13.729087    7.064337\n",
       "min     1.000000  163.000000\n",
       "25%    11.750000  174.750000\n",
       "50%    24.000000  182.000000\n",
       "75%    35.250000  183.500000\n",
       "max    46.000000  193.000000"
      ]
     },
     "execution_count": 5,
     "metadata": {},
     "output_type": "execute_result"
    }
   ],
   "source": [
    "data.describe()"
   ]
  },
  {
   "cell_type": "markdown",
   "id": "914c2b9b",
   "metadata": {},
   "source": [
    "## 01. Presidents with height lower than 180 cm."
   ]
  },
  {
   "cell_type": "code",
   "execution_count": 16,
   "id": "dd57b770",
   "metadata": {},
   "outputs": [
    {
     "data": {
      "text/html": [
       "<div>\n",
       "<style scoped>\n",
       "    .dataframe tbody tr th:only-of-type {\n",
       "        vertical-align: middle;\n",
       "    }\n",
       "\n",
       "    .dataframe tbody tr th {\n",
       "        vertical-align: top;\n",
       "    }\n",
       "\n",
       "    .dataframe thead th {\n",
       "        text-align: right;\n",
       "    }\n",
       "</style>\n",
       "<table border=\"1\" class=\"dataframe\">\n",
       "  <thead>\n",
       "    <tr style=\"text-align: right;\">\n",
       "      <th></th>\n",
       "      <th>name</th>\n",
       "    </tr>\n",
       "  </thead>\n",
       "  <tbody>\n",
       "    <tr>\n",
       "      <th>1</th>\n",
       "      <td>John Adams</td>\n",
       "    </tr>\n",
       "    <tr>\n",
       "      <th>3</th>\n",
       "      <td>James Madison</td>\n",
       "    </tr>\n",
       "    <tr>\n",
       "      <th>5</th>\n",
       "      <td>John Quincy Adams</td>\n",
       "    </tr>\n",
       "    <tr>\n",
       "      <th>7</th>\n",
       "      <td>Martin Van Buren</td>\n",
       "    </tr>\n",
       "    <tr>\n",
       "      <th>8</th>\n",
       "      <td>William Henry Harrison</td>\n",
       "    </tr>\n",
       "    <tr>\n",
       "      <th>10</th>\n",
       "      <td>James K. Polk</td>\n",
       "    </tr>\n",
       "    <tr>\n",
       "      <th>11</th>\n",
       "      <td>Zachary Taylor</td>\n",
       "    </tr>\n",
       "    <tr>\n",
       "      <th>12</th>\n",
       "      <td>Millard Fillmore</td>\n",
       "    </tr>\n",
       "    <tr>\n",
       "      <th>13</th>\n",
       "      <td>Franklin Pierce</td>\n",
       "    </tr>\n",
       "    <tr>\n",
       "      <th>16</th>\n",
       "      <td>Andrew Johnson</td>\n",
       "    </tr>\n",
       "    <tr>\n",
       "      <th>17</th>\n",
       "      <td>Ulysses S. Grant</td>\n",
       "    </tr>\n",
       "    <tr>\n",
       "      <th>18</th>\n",
       "      <td>Rutherford B. Hayes</td>\n",
       "    </tr>\n",
       "    <tr>\n",
       "      <th>21</th>\n",
       "      <td>Benjamin Harrison</td>\n",
       "    </tr>\n",
       "    <tr>\n",
       "      <th>22</th>\n",
       "      <td>William McKinley</td>\n",
       "    </tr>\n",
       "    <tr>\n",
       "      <th>23</th>\n",
       "      <td>Theodore Roosevelt</td>\n",
       "    </tr>\n",
       "    <tr>\n",
       "      <th>27</th>\n",
       "      <td>Calvin Coolidge</td>\n",
       "    </tr>\n",
       "    <tr>\n",
       "      <th>30</th>\n",
       "      <td>Harry S. Truman</td>\n",
       "    </tr>\n",
       "    <tr>\n",
       "      <th>31</th>\n",
       "      <td>Dwight D. Eisenhower</td>\n",
       "    </tr>\n",
       "    <tr>\n",
       "      <th>36</th>\n",
       "      <td>Jimmy Carter</td>\n",
       "    </tr>\n",
       "  </tbody>\n",
       "</table>\n",
       "</div>"
      ],
      "text/plain": [
       "                      name\n",
       "1               John Adams\n",
       "3            James Madison\n",
       "5        John Quincy Adams\n",
       "7         Martin Van Buren\n",
       "8   William Henry Harrison\n",
       "10           James K. Polk\n",
       "11          Zachary Taylor\n",
       "12        Millard Fillmore\n",
       "13         Franklin Pierce\n",
       "16          Andrew Johnson\n",
       "17        Ulysses S. Grant\n",
       "18     Rutherford B. Hayes\n",
       "21       Benjamin Harrison\n",
       "22        William McKinley\n",
       "23      Theodore Roosevelt\n",
       "27         Calvin Coolidge\n",
       "30         Harry S. Truman\n",
       "31    Dwight D. Eisenhower\n",
       "36            Jimmy Carter"
      ]
     },
     "execution_count": 16,
     "metadata": {},
     "output_type": "execute_result"
    }
   ],
   "source": [
    "data[data['height(cm)'] < 180][['name']]"
   ]
  },
  {
   "cell_type": "code",
   "execution_count": 15,
   "id": "8e8fc0a3",
   "metadata": {},
   "outputs": [
    {
     "name": "stdout",
     "output_type": "stream",
     "text": [
      "Count of presidents with height lower than 180cm is:19\n"
     ]
    }
   ],
   "source": [
    "print(f\"Count of presidents with height lower than 180cm is:\" \n",
    "      f\"{data[data['height(cm)'] < 180][['name']].value_counts().sum()}\")"
   ]
  },
  {
   "cell_type": "markdown",
   "id": "106d02dc",
   "metadata": {},
   "source": [
    "## 02. Rosvelt height?"
   ]
  },
  {
   "cell_type": "code",
   "execution_count": 7,
   "id": "437d45ad",
   "metadata": {},
   "outputs": [
    {
     "data": {
      "text/html": [
       "<div>\n",
       "<style scoped>\n",
       "    .dataframe tbody tr th:only-of-type {\n",
       "        vertical-align: middle;\n",
       "    }\n",
       "\n",
       "    .dataframe tbody tr th {\n",
       "        vertical-align: top;\n",
       "    }\n",
       "\n",
       "    .dataframe thead th {\n",
       "        text-align: right;\n",
       "    }\n",
       "</style>\n",
       "<table border=\"1\" class=\"dataframe\">\n",
       "  <thead>\n",
       "    <tr style=\"text-align: right;\">\n",
       "      <th></th>\n",
       "      <th>order</th>\n",
       "      <th>name</th>\n",
       "      <th>height(cm)</th>\n",
       "    </tr>\n",
       "  </thead>\n",
       "  <tbody>\n",
       "    <tr>\n",
       "      <th>23</th>\n",
       "      <td>26</td>\n",
       "      <td>Theodore Roosevelt</td>\n",
       "      <td>178</td>\n",
       "    </tr>\n",
       "    <tr>\n",
       "      <th>29</th>\n",
       "      <td>32</td>\n",
       "      <td>Franklin D. Roosevelt</td>\n",
       "      <td>188</td>\n",
       "    </tr>\n",
       "  </tbody>\n",
       "</table>\n",
       "</div>"
      ],
      "text/plain": [
       "    order                   name  height(cm)\n",
       "23     26     Theodore Roosevelt         178\n",
       "29     32  Franklin D. Roosevelt         188"
      ]
     },
     "execution_count": 7,
     "metadata": {},
     "output_type": "execute_result"
    }
   ],
   "source": [
    "names = [str(data[data['name']==name]['name']).split('\\n')[0].split('    ')[1] for name in data.name if 'Roosevelt' in name]\n",
    "pd.concat([data[names[0]== data['name']] , data[names[1]== data['name']]])"
   ]
  },
  {
   "cell_type": "markdown",
   "id": "6a6fa1ee",
   "metadata": {},
   "source": [
    "## 03. The tallest president?"
   ]
  },
  {
   "cell_type": "code",
   "execution_count": 8,
   "id": "e82d20fa",
   "metadata": {},
   "outputs": [
    {
     "data": {
      "text/html": [
       "<div>\n",
       "<style scoped>\n",
       "    .dataframe tbody tr th:only-of-type {\n",
       "        vertical-align: middle;\n",
       "    }\n",
       "\n",
       "    .dataframe tbody tr th {\n",
       "        vertical-align: top;\n",
       "    }\n",
       "\n",
       "    .dataframe thead th {\n",
       "        text-align: right;\n",
       "    }\n",
       "</style>\n",
       "<table border=\"1\" class=\"dataframe\">\n",
       "  <thead>\n",
       "    <tr style=\"text-align: right;\">\n",
       "      <th></th>\n",
       "      <th>order</th>\n",
       "      <th>name</th>\n",
       "      <th>height(cm)</th>\n",
       "    </tr>\n",
       "  </thead>\n",
       "  <tbody>\n",
       "    <tr>\n",
       "      <th>15</th>\n",
       "      <td>16</td>\n",
       "      <td>Abraham Lincoln</td>\n",
       "      <td>193</td>\n",
       "    </tr>\n",
       "    <tr>\n",
       "      <th>33</th>\n",
       "      <td>36</td>\n",
       "      <td>Lyndon B. Johnson</td>\n",
       "      <td>193</td>\n",
       "    </tr>\n",
       "  </tbody>\n",
       "</table>\n",
       "</div>"
      ],
      "text/plain": [
       "    order               name  height(cm)\n",
       "15     16    Abraham Lincoln         193\n",
       "33     36  Lyndon B. Johnson         193"
      ]
     },
     "execution_count": 8,
     "metadata": {},
     "output_type": "execute_result"
    }
   ],
   "source": [
    "data.loc[data['height(cm)'] == data['height(cm)'].max()]"
   ]
  },
  {
   "cell_type": "markdown",
   "id": "90b37119",
   "metadata": {},
   "source": [
    "## 04. The time of being president"
   ]
  },
  {
   "cell_type": "code",
   "execution_count": 9,
   "id": "bd0ce52e",
   "metadata": {},
   "outputs": [
    {
     "data": {
      "text/html": [
       "<div>\n",
       "<style scoped>\n",
       "    .dataframe tbody tr th:only-of-type {\n",
       "        vertical-align: middle;\n",
       "    }\n",
       "\n",
       "    .dataframe tbody tr th {\n",
       "        vertical-align: top;\n",
       "    }\n",
       "\n",
       "    .dataframe thead th {\n",
       "        text-align: right;\n",
       "    }\n",
       "</style>\n",
       "<table border=\"1\" class=\"dataframe\">\n",
       "  <thead>\n",
       "    <tr style=\"text-align: right;\">\n",
       "      <th></th>\n",
       "      <th>name</th>\n",
       "      <th>order</th>\n",
       "    </tr>\n",
       "  </thead>\n",
       "  <tbody>\n",
       "    <tr>\n",
       "      <th>15</th>\n",
       "      <td>Abraham Lincoln</td>\n",
       "      <td>16</td>\n",
       "    </tr>\n",
       "    <tr>\n",
       "      <th>33</th>\n",
       "      <td>Lyndon B. Johnson</td>\n",
       "      <td>36</td>\n",
       "    </tr>\n",
       "  </tbody>\n",
       "</table>\n",
       "</div>"
      ],
      "text/plain": [
       "                 name  order\n",
       "15    Abraham Lincoln     16\n",
       "33  Lyndon B. Johnson     36"
      ]
     },
     "execution_count": 9,
     "metadata": {},
     "output_type": "execute_result"
    }
   ],
   "source": [
    "data[data['height(cm)'] == data['height(cm)'].max()][['name','order']]"
   ]
  },
  {
   "cell_type": "markdown",
   "id": "dc6be8b0",
   "metadata": {},
   "source": [
    "## 05. Presidents taller than Obama"
   ]
  },
  {
   "cell_type": "code",
   "execution_count": 10,
   "id": "d097a68b",
   "metadata": {},
   "outputs": [],
   "source": [
    "obama = [str(data[data['name']==name]['name']).split('\\n')[0].split('    ')[1] for name in data.name if 'Obama' in name][0]"
   ]
  },
  {
   "cell_type": "code",
   "execution_count": 11,
   "id": "857bc402",
   "metadata": {},
   "outputs": [
    {
     "name": "stdout",
     "output_type": "stream",
     "text": [
      "Height of Obama is 185.\n"
     ]
    }
   ],
   "source": [
    "obama_height = data[data['name'] == obama]['height(cm)'].values[0]\n",
    "print(f'Height of Obama is {obama_height}.')"
   ]
  },
  {
   "cell_type": "code",
   "execution_count": 12,
   "id": "8c531b57",
   "metadata": {},
   "outputs": [
    {
     "data": {
      "text/html": [
       "<div>\n",
       "<style scoped>\n",
       "    .dataframe tbody tr th:only-of-type {\n",
       "        vertical-align: middle;\n",
       "    }\n",
       "\n",
       "    .dataframe tbody tr th {\n",
       "        vertical-align: top;\n",
       "    }\n",
       "\n",
       "    .dataframe thead th {\n",
       "        text-align: right;\n",
       "    }\n",
       "</style>\n",
       "<table border=\"1\" class=\"dataframe\">\n",
       "  <thead>\n",
       "    <tr style=\"text-align: right;\">\n",
       "      <th></th>\n",
       "      <th>name</th>\n",
       "      <th>height(cm)</th>\n",
       "    </tr>\n",
       "  </thead>\n",
       "  <tbody>\n",
       "    <tr>\n",
       "      <th>0</th>\n",
       "      <td>George Washington</td>\n",
       "      <td>189</td>\n",
       "    </tr>\n",
       "    <tr>\n",
       "      <th>2</th>\n",
       "      <td>Thomas Jefferson</td>\n",
       "      <td>189</td>\n",
       "    </tr>\n",
       "    <tr>\n",
       "      <th>15</th>\n",
       "      <td>Abraham Lincoln</td>\n",
       "      <td>193</td>\n",
       "    </tr>\n",
       "    <tr>\n",
       "      <th>29</th>\n",
       "      <td>Franklin D. Roosevelt</td>\n",
       "      <td>188</td>\n",
       "    </tr>\n",
       "    <tr>\n",
       "      <th>33</th>\n",
       "      <td>Lyndon B. Johnson</td>\n",
       "      <td>193</td>\n",
       "    </tr>\n",
       "    <tr>\n",
       "      <th>38</th>\n",
       "      <td>George H. W. Bush</td>\n",
       "      <td>188</td>\n",
       "    </tr>\n",
       "    <tr>\n",
       "      <th>39</th>\n",
       "      <td>Bill Clinton</td>\n",
       "      <td>188</td>\n",
       "    </tr>\n",
       "    <tr>\n",
       "      <th>42</th>\n",
       "      <td>Donald Trump</td>\n",
       "      <td>191</td>\n",
       "    </tr>\n",
       "  </tbody>\n",
       "</table>\n",
       "</div>"
      ],
      "text/plain": [
       "                     name  height(cm)\n",
       "0       George Washington         189\n",
       "2        Thomas Jefferson         189\n",
       "15        Abraham Lincoln         193\n",
       "29  Franklin D. Roosevelt         188\n",
       "33      Lyndon B. Johnson         193\n",
       "38      George H. W. Bush         188\n",
       "39           Bill Clinton         188\n",
       "42           Donald Trump         191"
      ]
     },
     "execution_count": 12,
     "metadata": {},
     "output_type": "execute_result"
    }
   ],
   "source": [
    "data[data['height(cm)'] > obama_height][['name', 'height(cm)']]"
   ]
  },
  {
   "cell_type": "markdown",
   "id": "96c8cc93",
   "metadata": {},
   "source": [
    "## 06. Presidents with same height"
   ]
  },
  {
   "cell_type": "code",
   "execution_count": 18,
   "id": "fa80ca0f",
   "metadata": {},
   "outputs": [],
   "source": [
    "groups = data.groupby('height(cm)').apply(lambda x: x['name'].to_list()).to_dict()"
   ]
  },
  {
   "cell_type": "code",
   "execution_count": 22,
   "id": "445bda20",
   "metadata": {},
   "outputs": [],
   "source": [
    "filtered_groups = {height:names for height, names in groups.items() if (len(groups[height]) > 1)}"
   ]
  },
  {
   "cell_type": "code",
   "execution_count": 23,
   "id": "99410d04",
   "metadata": {},
   "outputs": [
    {
     "name": "stdout",
     "output_type": "stream",
     "text": [
      "Presidents with height 168 cm:\n",
      "Martin Van Buren\n",
      "Benjamin Harrison\n",
      "-------------\n",
      "Presidents with height 170 cm:\n",
      "John Adams\n",
      "William McKinley\n",
      "-------------\n",
      "Presidents with height 173 cm:\n",
      "William Henry Harrison\n",
      "James K. Polk\n",
      "Zachary Taylor\n",
      "Ulysses S. Grant\n",
      "-------------\n",
      "Presidents with height 175 cm:\n",
      "Millard Fillmore\n",
      "Harry S. Truman\n",
      "-------------\n",
      "Presidents with height 178 cm:\n",
      "Franklin Pierce\n",
      "Andrew Johnson\n",
      "Theodore Roosevelt\n",
      "Calvin Coolidge\n",
      "-------------\n",
      "Presidents with height 182 cm:\n",
      "William Howard Taft\n",
      "Herbert Hoover\n",
      "Richard Nixon\n",
      "George W. Bush\n",
      "Joseph Biden\n",
      "-------------\n",
      "Presidents with height 183 cm:\n",
      "James Monroe\n",
      "John Tyler\n",
      "James Buchanan\n",
      "James A. Garfield\n",
      "Chester A. Arthur\n",
      "Warren G. Harding\n",
      "John F. Kennedy\n",
      "Gerald Ford\n",
      "-------------\n",
      "Presidents with height 185 cm:\n",
      "Andrew Jackson\n",
      "Ronald Reagan\n",
      "Barack Obama\n",
      "-------------\n",
      "Presidents with height 188 cm:\n",
      "Franklin D. Roosevelt\n",
      "George H. W. Bush\n",
      "Bill Clinton\n",
      "-------------\n",
      "Presidents with height 189 cm:\n",
      "George Washington\n",
      "Thomas Jefferson\n",
      "-------------\n",
      "Presidents with height 193 cm:\n",
      "Abraham Lincoln\n",
      "Lyndon B. Johnson\n",
      "-------------\n"
     ]
    }
   ],
   "source": [
    "for height, names in filtered_groups.items():\n",
    "    print(f\"Presidents with height {height} cm:\")\n",
    "    for name in names:\n",
    "        print(name)\n",
    "    print(\"-------------\")"
   ]
  },
  {
   "cell_type": "markdown",
   "id": "049b8fa7",
   "metadata": {},
   "source": [
    "## 07. Plot The Data"
   ]
  },
  {
   "cell_type": "code",
   "execution_count": 17,
   "id": "b5ef5ef9",
   "metadata": {},
   "outputs": [
    {
     "data": {
      "image/png": "[encoded data removed]",
      "text/plain": [
       "<Figure size 1500x700 with 1 Axes>"
      ]
     },
     "metadata": {},
     "output_type": "display_data"
    }
   ],
   "source": [
    "fig = plt.figure(figsize = (15, 7))\n",
    "plt.bar(data['name'], data['height(cm)'],color='tomato', width = 0.8)\n",
    "plt.style.use('ggplot')\n",
    "plt.title('Presidents Height(cm)')\n",
    "plt.xticks(rotation=90)\n",
    "plt.show()"
   ]
  }
 ],
 "metadata": {
  "kernelspec": {
   "display_name": "Python 3 (ipykernel)",
   "language": "python",
   "name": "python3"
  },
  "language_info": {
   "codemirror_mode": {
    "name": "ipython",
    "version": 3
   },
   "file_extension": ".py",
   "mimetype": "text/x-python",
   "name": "python",
   "nbconvert_exporter": "python",
   "pygments_lexer": "ipython3",
   "version": "3.11.3"
  }
 },
 "nbformat": 4,
 "nbformat_minor": 5
}
